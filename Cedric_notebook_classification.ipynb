{
 "cells": [
  {
   "cell_type": "markdown",
   "id": "ce571286-2d42-4f63-affb-dd469b8992ce",
   "metadata": {},
   "source": [
    "<font size=18>classification supervisée d'articles</font>"
   ]
  },
  {
   "cell_type": "markdown",
   "id": "586f35a2-baeb-41c2-aed8-59f346489de4",
   "metadata": {},
   "source": [
    "# Préparation"
   ]
  },
  {
   "cell_type": "code",
   "execution_count": 4,
   "id": "9f9ab459-bcb7-469b-a5ff-2878f83fbeaf",
   "metadata": {},
   "outputs": [
    {
     "name": "stdout",
     "output_type": "stream",
     "text": [
      "Python 3.9.18\n"
     ]
    }
   ],
   "source": [
    "!python --version"
   ]
  },
  {
   "cell_type": "markdown",
   "id": "a530d354-06d4-49bf-b718-b7b41301ef8e",
   "metadata": {},
   "source": [
    "## chargement des modules"
   ]
  },
  {
   "cell_type": "code",
   "execution_count": 6,
   "id": "7b77de2e-9095-47a4-91b2-c1b5718b66ed",
   "metadata": {},
   "outputs": [
    {
     "name": "stdout",
     "output_type": "stream",
     "text": [
      "Num GPUs Available:  0\n"
     ]
    }
   ],
   "source": [
    "#builtin\n",
    "import warnings\n",
    "warnings.simplefilter(action='ignore', category=FutureWarning)\n",
    "from datetime import datetime\n",
    "import os, sys, time, random\n",
    "from os import listdir\n",
    "\n",
    "#data\n",
    "import pandas as pd\n",
    "import numpy as np\n",
    "\n",
    "# viz\n",
    "import matplotlib.pyplot as plt\n",
    "import seaborn as sns\n",
    "%matplotlib inline\n",
    "\n",
    "#from sklearn.preprocessing import LabelEncoder\n",
    "from sklearn.compose import ColumnTransformer\n",
    "from sklearn.preprocessing import OneHotEncoder\n",
    "from sklearn.manifold import TSNE\n",
    "from sklearn.cluster import KMeans\n",
    "from sklearn import cluster, metrics\n",
    "from sklearn.metrics.cluster import adjusted_rand_score\n",
    "from sklearn.model_selection import train_test_split\n",
    "from sklearn.metrics import accuracy_score, auc, roc_auc_score, roc_curve\n",
    "from glob import glob\n",
    "\n",
    "import tensorflow as tf\n",
    "from tensorflow.keras.models import Model, Sequential\n",
    "from tensorflow.keras.layers import GlobalAveragePooling2D, GlobalAveragePooling1D, Flatten, Dense, Dropout \n",
    "from tensorflow.keras.layers import Rescaling, RandomFlip, RandomRotation, RandomZoom\n",
    "from tensorflow.keras.callbacks import EarlyStopping, ModelCheckpoint, CSVLogger\n",
    "from tensorflow.keras.applications.vgg16 import VGG16\n",
    "from tensorflow.keras.applications.vgg16 import preprocess_input\n",
    "from tensorflow.keras.preprocessing.image import load_img, img_to_array\n",
    "from tensorflow.keras.utils import to_categorical\n",
    "\n",
    "# os.environ[\"TF_KERAS\"]='1'\n",
    "os.environ[\"OMP_NUM_THREADS\"] = '4'\n",
    "print(\"Num GPUs Available: \", len(tf.config.list_physical_devices('GPU')))"
   ]
  },
  {
   "cell_type": "markdown",
   "id": "e9d44276-ae9c-4f30-bf31-20989f2a48c7",
   "metadata": {},
   "source": [
    "## Chargement du dataframe"
   ]
  },
  {
   "cell_type": "code",
   "execution_count": 8,
   "id": "328cd31b-3d43-4b45-98cf-27a7d5561d6d",
   "metadata": {},
   "outputs": [
    {
     "data": {
      "text/plain": [
       "['.ipynb_checkpoints', 'flipkart_com-ecommerce_sample_1050.csv', 'Images']"
      ]
     },
     "execution_count": 8,
     "metadata": {},
     "output_type": "execute_result"
    }
   ],
   "source": [
    "#fichier données \n",
    "data = './data/source/'\n",
    "dossierImageSource = \"data/source/images/\"  # chemin ou recuperer les images\n",
    "dossierImageTraitees = \"data/traitees/images/\"   # chemin ou déposer les exports\n",
    "os.listdir(data)"
   ]
  },
  {
   "cell_type": "code",
   "execution_count": 9,
   "id": "d0011700-9c09-4c30-848e-117a003b8547",
   "metadata": {},
   "outputs": [
    {
     "data": {
      "text/html": [
       "<div>\n",
       "<style scoped>\n",
       "    .dataframe tbody tr th:only-of-type {\n",
       "        vertical-align: middle;\n",
       "    }\n",
       "\n",
       "    .dataframe tbody tr th {\n",
       "        vertical-align: top;\n",
       "    }\n",
       "\n",
       "    .dataframe thead th {\n",
       "        text-align: right;\n",
       "    }\n",
       "</style>\n",
       "<table border=\"1\" class=\"dataframe\">\n",
       "  <thead>\n",
       "    <tr style=\"text-align: right;\">\n",
       "      <th></th>\n",
       "      <th>uniq_id</th>\n",
       "      <th>crawl_timestamp</th>\n",
       "      <th>product_url</th>\n",
       "      <th>product_name</th>\n",
       "      <th>product_category_tree</th>\n",
       "      <th>pid</th>\n",
       "      <th>retail_price</th>\n",
       "      <th>discounted_price</th>\n",
       "      <th>image</th>\n",
       "      <th>is_FK_Advantage_product</th>\n",
       "      <th>description</th>\n",
       "      <th>product_rating</th>\n",
       "      <th>overall_rating</th>\n",
       "      <th>brand</th>\n",
       "      <th>product_specifications</th>\n",
       "    </tr>\n",
       "  </thead>\n",
       "  <tbody>\n",
       "    <tr>\n",
       "      <th>0</th>\n",
       "      <td>55b85ea15a1536d46b7190ad6fff8ce7</td>\n",
       "      <td>2016-04-30 03:22:56 +0000</td>\n",
       "      <td>http://www.flipkart.com/elegance-polyester-mul...</td>\n",
       "      <td>Elegance Polyester Multicolor Abstract Eyelet ...</td>\n",
       "      <td>[\"Home Furnishing &gt;&gt; Curtains &amp; Accessories &gt;&gt;...</td>\n",
       "      <td>CRNEG7BKMFFYHQ8Z</td>\n",
       "      <td>1899.0</td>\n",
       "      <td>899.0</td>\n",
       "      <td>55b85ea15a1536d46b7190ad6fff8ce7.jpg</td>\n",
       "      <td>False</td>\n",
       "      <td>Key Features of Elegance Polyester Multicolor ...</td>\n",
       "      <td>No rating available</td>\n",
       "      <td>No rating available</td>\n",
       "      <td>Elegance</td>\n",
       "      <td>{\"product_specification\"=&gt;[{\"key\"=&gt;\"Brand\", \"v...</td>\n",
       "    </tr>\n",
       "    <tr>\n",
       "      <th>1</th>\n",
       "      <td>7b72c92c2f6c40268628ec5f14c6d590</td>\n",
       "      <td>2016-04-30 03:22:56 +0000</td>\n",
       "      <td>http://www.flipkart.com/sathiyas-cotton-bath-t...</td>\n",
       "      <td>Sathiyas Cotton Bath Towel</td>\n",
       "      <td>[\"Baby Care &gt;&gt; Baby Bath &amp; Skin &gt;&gt; Baby Bath T...</td>\n",
       "      <td>BTWEGFZHGBXPHZUH</td>\n",
       "      <td>600.0</td>\n",
       "      <td>449.0</td>\n",
       "      <td>7b72c92c2f6c40268628ec5f14c6d590.jpg</td>\n",
       "      <td>False</td>\n",
       "      <td>Specifications of Sathiyas Cotton Bath Towel (...</td>\n",
       "      <td>No rating available</td>\n",
       "      <td>No rating available</td>\n",
       "      <td>Sathiyas</td>\n",
       "      <td>{\"product_specification\"=&gt;[{\"key\"=&gt;\"Machine Wa...</td>\n",
       "    </tr>\n",
       "    <tr>\n",
       "      <th>2</th>\n",
       "      <td>64d5d4a258243731dc7bbb1eef49ad74</td>\n",
       "      <td>2016-04-30 03:22:56 +0000</td>\n",
       "      <td>http://www.flipkart.com/eurospa-cotton-terry-f...</td>\n",
       "      <td>Eurospa Cotton Terry Face Towel Set</td>\n",
       "      <td>[\"Baby Care &gt;&gt; Baby Bath &amp; Skin &gt;&gt; Baby Bath T...</td>\n",
       "      <td>BTWEG6SHXTDB2A2Y</td>\n",
       "      <td>NaN</td>\n",
       "      <td>NaN</td>\n",
       "      <td>64d5d4a258243731dc7bbb1eef49ad74.jpg</td>\n",
       "      <td>False</td>\n",
       "      <td>Key Features of Eurospa Cotton Terry Face Towe...</td>\n",
       "      <td>No rating available</td>\n",
       "      <td>No rating available</td>\n",
       "      <td>Eurospa</td>\n",
       "      <td>{\"product_specification\"=&gt;[{\"key\"=&gt;\"Material\",...</td>\n",
       "    </tr>\n",
       "    <tr>\n",
       "      <th>3</th>\n",
       "      <td>d4684dcdc759dd9cdf41504698d737d8</td>\n",
       "      <td>2016-06-20 08:49:52 +0000</td>\n",
       "      <td>http://www.flipkart.com/santosh-royal-fashion-...</td>\n",
       "      <td>SANTOSH ROYAL FASHION Cotton Printed King size...</td>\n",
       "      <td>[\"Home Furnishing &gt;&gt; Bed Linen &gt;&gt; Bedsheets &gt;&gt;...</td>\n",
       "      <td>BDSEJT9UQWHDUBH4</td>\n",
       "      <td>2699.0</td>\n",
       "      <td>1299.0</td>\n",
       "      <td>d4684dcdc759dd9cdf41504698d737d8.jpg</td>\n",
       "      <td>False</td>\n",
       "      <td>Key Features of SANTOSH ROYAL FASHION Cotton P...</td>\n",
       "      <td>No rating available</td>\n",
       "      <td>No rating available</td>\n",
       "      <td>SANTOSH ROYAL FASHION</td>\n",
       "      <td>{\"product_specification\"=&gt;[{\"key\"=&gt;\"Brand\", \"v...</td>\n",
       "    </tr>\n",
       "    <tr>\n",
       "      <th>4</th>\n",
       "      <td>6325b6870c54cd47be6ebfbffa620ec7</td>\n",
       "      <td>2016-06-20 08:49:52 +0000</td>\n",
       "      <td>http://www.flipkart.com/jaipur-print-cotton-fl...</td>\n",
       "      <td>Jaipur Print Cotton Floral King sized Double B...</td>\n",
       "      <td>[\"Home Furnishing &gt;&gt; Bed Linen &gt;&gt; Bedsheets &gt;&gt;...</td>\n",
       "      <td>BDSEJTHNGWVGWWQU</td>\n",
       "      <td>2599.0</td>\n",
       "      <td>698.0</td>\n",
       "      <td>6325b6870c54cd47be6ebfbffa620ec7.jpg</td>\n",
       "      <td>False</td>\n",
       "      <td>Key Features of Jaipur Print Cotton Floral Kin...</td>\n",
       "      <td>No rating available</td>\n",
       "      <td>No rating available</td>\n",
       "      <td>Jaipur Print</td>\n",
       "      <td>{\"product_specification\"=&gt;[{\"key\"=&gt;\"Machine Wa...</td>\n",
       "    </tr>\n",
       "  </tbody>\n",
       "</table>\n",
       "</div>"
      ],
      "text/plain": [
       "                            uniq_id            crawl_timestamp  \\\n",
       "0  55b85ea15a1536d46b7190ad6fff8ce7  2016-04-30 03:22:56 +0000   \n",
       "1  7b72c92c2f6c40268628ec5f14c6d590  2016-04-30 03:22:56 +0000   \n",
       "2  64d5d4a258243731dc7bbb1eef49ad74  2016-04-30 03:22:56 +0000   \n",
       "3  d4684dcdc759dd9cdf41504698d737d8  2016-06-20 08:49:52 +0000   \n",
       "4  6325b6870c54cd47be6ebfbffa620ec7  2016-06-20 08:49:52 +0000   \n",
       "\n",
       "                                         product_url  \\\n",
       "0  http://www.flipkart.com/elegance-polyester-mul...   \n",
       "1  http://www.flipkart.com/sathiyas-cotton-bath-t...   \n",
       "2  http://www.flipkart.com/eurospa-cotton-terry-f...   \n",
       "3  http://www.flipkart.com/santosh-royal-fashion-...   \n",
       "4  http://www.flipkart.com/jaipur-print-cotton-fl...   \n",
       "\n",
       "                                        product_name  \\\n",
       "0  Elegance Polyester Multicolor Abstract Eyelet ...   \n",
       "1                         Sathiyas Cotton Bath Towel   \n",
       "2                Eurospa Cotton Terry Face Towel Set   \n",
       "3  SANTOSH ROYAL FASHION Cotton Printed King size...   \n",
       "4  Jaipur Print Cotton Floral King sized Double B...   \n",
       "\n",
       "                               product_category_tree               pid  \\\n",
       "0  [\"Home Furnishing >> Curtains & Accessories >>...  CRNEG7BKMFFYHQ8Z   \n",
       "1  [\"Baby Care >> Baby Bath & Skin >> Baby Bath T...  BTWEGFZHGBXPHZUH   \n",
       "2  [\"Baby Care >> Baby Bath & Skin >> Baby Bath T...  BTWEG6SHXTDB2A2Y   \n",
       "3  [\"Home Furnishing >> Bed Linen >> Bedsheets >>...  BDSEJT9UQWHDUBH4   \n",
       "4  [\"Home Furnishing >> Bed Linen >> Bedsheets >>...  BDSEJTHNGWVGWWQU   \n",
       "\n",
       "   retail_price  discounted_price                                 image  \\\n",
       "0        1899.0             899.0  55b85ea15a1536d46b7190ad6fff8ce7.jpg   \n",
       "1         600.0             449.0  7b72c92c2f6c40268628ec5f14c6d590.jpg   \n",
       "2           NaN               NaN  64d5d4a258243731dc7bbb1eef49ad74.jpg   \n",
       "3        2699.0            1299.0  d4684dcdc759dd9cdf41504698d737d8.jpg   \n",
       "4        2599.0             698.0  6325b6870c54cd47be6ebfbffa620ec7.jpg   \n",
       "\n",
       "   is_FK_Advantage_product                                        description  \\\n",
       "0                    False  Key Features of Elegance Polyester Multicolor ...   \n",
       "1                    False  Specifications of Sathiyas Cotton Bath Towel (...   \n",
       "2                    False  Key Features of Eurospa Cotton Terry Face Towe...   \n",
       "3                    False  Key Features of SANTOSH ROYAL FASHION Cotton P...   \n",
       "4                    False  Key Features of Jaipur Print Cotton Floral Kin...   \n",
       "\n",
       "        product_rating       overall_rating                  brand  \\\n",
       "0  No rating available  No rating available               Elegance   \n",
       "1  No rating available  No rating available               Sathiyas   \n",
       "2  No rating available  No rating available                Eurospa   \n",
       "3  No rating available  No rating available  SANTOSH ROYAL FASHION   \n",
       "4  No rating available  No rating available           Jaipur Print   \n",
       "\n",
       "                              product_specifications  \n",
       "0  {\"product_specification\"=>[{\"key\"=>\"Brand\", \"v...  \n",
       "1  {\"product_specification\"=>[{\"key\"=>\"Machine Wa...  \n",
       "2  {\"product_specification\"=>[{\"key\"=>\"Material\",...  \n",
       "3  {\"product_specification\"=>[{\"key\"=>\"Brand\", \"v...  \n",
       "4  {\"product_specification\"=>[{\"key\"=>\"Machine Wa...  "
      ]
     },
     "execution_count": 9,
     "metadata": {},
     "output_type": "execute_result"
    }
   ],
   "source": [
    "#chargement dataframe\n",
    "fn = data + 'flipkart_com-ecommerce_sample_1050.csv'\n",
    "df = pd.read_csv(fn)\n",
    "df.head()"
   ]
  },
  {
   "cell_type": "code",
   "execution_count": 10,
   "id": "e1fae929-537c-4884-b7a6-2900b6240b6f",
   "metadata": {},
   "outputs": [],
   "source": [
    "if 'product_category_tree' in df.columns:\n",
    "    df=df[['image','product_category_tree']].copy()"
   ]
  },
  {
   "cell_type": "code",
   "execution_count": 11,
   "id": "323ac948-bb12-4b83-8159-35b767c31519",
   "metadata": {},
   "outputs": [
    {
     "name": "stdout",
     "output_type": "stream",
     "text": [
      "category\n",
      "Home Furnishing               150\n",
      "Baby Care                     150\n",
      "Watches                       150\n",
      "Home Decor & Festive Needs    150\n",
      "Kitchen & Dining              150\n",
      "Beauty and Personal Care      150\n",
      "Computers                     150\n",
      "Name: count, dtype: int64\n"
     ]
    }
   ],
   "source": [
    "def extractCateg(chaine):\n",
    "    chaine=chaine.replace('[\"', '').split(' >> ')[0]\n",
    "    return chaine\n",
    "\n",
    "if 'product_category_tree' in df.columns:\n",
    "    df['category']=df.product_category_tree.apply(extractCateg)\n",
    "    \n",
    "if 'category' in df.columns:\n",
    "    print(df['category'].value_counts())"
   ]
  },
  {
   "cell_type": "code",
   "execution_count": 12,
   "id": "e3a694ef-3f0d-4a21-bb22-e8120621012d",
   "metadata": {},
   "outputs": [
    {
     "data": {
      "text/html": [
       "<div>\n",
       "<style scoped>\n",
       "    .dataframe tbody tr th:only-of-type {\n",
       "        vertical-align: middle;\n",
       "    }\n",
       "\n",
       "    .dataframe tbody tr th {\n",
       "        vertical-align: top;\n",
       "    }\n",
       "\n",
       "    .dataframe thead th {\n",
       "        text-align: right;\n",
       "    }\n",
       "</style>\n",
       "<table border=\"1\" class=\"dataframe\">\n",
       "  <thead>\n",
       "    <tr style=\"text-align: right;\">\n",
       "      <th></th>\n",
       "      <th>image</th>\n",
       "      <th>category</th>\n",
       "    </tr>\n",
       "  </thead>\n",
       "  <tbody>\n",
       "    <tr>\n",
       "      <th>0</th>\n",
       "      <td>55b85ea15a1536d46b7190ad6fff8ce7.jpg</td>\n",
       "      <td>Home Furnishing</td>\n",
       "    </tr>\n",
       "    <tr>\n",
       "      <th>1</th>\n",
       "      <td>7b72c92c2f6c40268628ec5f14c6d590.jpg</td>\n",
       "      <td>Baby Care</td>\n",
       "    </tr>\n",
       "    <tr>\n",
       "      <th>2</th>\n",
       "      <td>64d5d4a258243731dc7bbb1eef49ad74.jpg</td>\n",
       "      <td>Baby Care</td>\n",
       "    </tr>\n",
       "    <tr>\n",
       "      <th>3</th>\n",
       "      <td>d4684dcdc759dd9cdf41504698d737d8.jpg</td>\n",
       "      <td>Home Furnishing</td>\n",
       "    </tr>\n",
       "    <tr>\n",
       "      <th>4</th>\n",
       "      <td>6325b6870c54cd47be6ebfbffa620ec7.jpg</td>\n",
       "      <td>Home Furnishing</td>\n",
       "    </tr>\n",
       "    <tr>\n",
       "      <th>...</th>\n",
       "      <td>...</td>\n",
       "      <td>...</td>\n",
       "    </tr>\n",
       "    <tr>\n",
       "      <th>1045</th>\n",
       "      <td>958f54f4c46b53c8a0a9b8167d9140bc.jpg</td>\n",
       "      <td>Baby Care</td>\n",
       "    </tr>\n",
       "    <tr>\n",
       "      <th>1046</th>\n",
       "      <td>fd6cbcc22efb6b761bd564c28928483c.jpg</td>\n",
       "      <td>Baby Care</td>\n",
       "    </tr>\n",
       "    <tr>\n",
       "      <th>1047</th>\n",
       "      <td>5912e037d12774bb73a2048f35a00009.jpg</td>\n",
       "      <td>Baby Care</td>\n",
       "    </tr>\n",
       "    <tr>\n",
       "      <th>1048</th>\n",
       "      <td>c3edc504d1b4f0ba6224fa53a43a7ad6.jpg</td>\n",
       "      <td>Baby Care</td>\n",
       "    </tr>\n",
       "    <tr>\n",
       "      <th>1049</th>\n",
       "      <td>f2f027ad6a6df617c9f125173da71e44.jpg</td>\n",
       "      <td>Baby Care</td>\n",
       "    </tr>\n",
       "  </tbody>\n",
       "</table>\n",
       "<p>1050 rows × 2 columns</p>\n",
       "</div>"
      ],
      "text/plain": [
       "                                     image         category\n",
       "0     55b85ea15a1536d46b7190ad6fff8ce7.jpg  Home Furnishing\n",
       "1     7b72c92c2f6c40268628ec5f14c6d590.jpg        Baby Care\n",
       "2     64d5d4a258243731dc7bbb1eef49ad74.jpg        Baby Care\n",
       "3     d4684dcdc759dd9cdf41504698d737d8.jpg  Home Furnishing\n",
       "4     6325b6870c54cd47be6ebfbffa620ec7.jpg  Home Furnishing\n",
       "...                                    ...              ...\n",
       "1045  958f54f4c46b53c8a0a9b8167d9140bc.jpg        Baby Care\n",
       "1046  fd6cbcc22efb6b761bd564c28928483c.jpg        Baby Care\n",
       "1047  5912e037d12774bb73a2048f35a00009.jpg        Baby Care\n",
       "1048  c3edc504d1b4f0ba6224fa53a43a7ad6.jpg        Baby Care\n",
       "1049  f2f027ad6a6df617c9f125173da71e44.jpg        Baby Care\n",
       "\n",
       "[1050 rows x 2 columns]"
      ]
     },
     "execution_count": 12,
     "metadata": {},
     "output_type": "execute_result"
    }
   ],
   "source": [
    "liste_categories = list(df['category'].value_counts().index)\n",
    "colormap = []\n",
    "categories_reelles = []\n",
    "for categorie in df['category']:\n",
    "    colormap.append(plt.cm.Set2(liste_categories.index(categorie)))\n",
    "    categories_reelles.append(liste_categories.index(categorie))\n",
    "    \n",
    "if 'product_category_tree' in df.columns:\n",
    "    df = df.drop(['product_category_tree'], axis=1)\n",
    "df"
   ]
  },
  {
   "cell_type": "markdown",
   "id": "097fd16a-f704-4228-9da6-d387731b628d",
   "metadata": {},
   "source": [
    "## Fonctions"
   ]
  },
  {
   "cell_type": "code",
   "execution_count": 14,
   "id": "2f0e6279-68f8-41c6-884f-a669d3ff2768",
   "metadata": {},
   "outputs": [],
   "source": [
    "resultatsModeles = pd.DataFrame()\n",
    "\n",
    "def CreationDir(dossier):\n",
    "    \"\"\"\n",
    "    Crée le répertoire si il n'existe pas\n",
    "    \"\"\"\n",
    "    if not os.path.exists(dossier):\n",
    "        os.makedirs(dossier)\n",
    "\n",
    "\n",
    "def saveResults(toSave):\n",
    "    \"\"\"\n",
    "    Fonction de sauvegarde dans un dataframe\n",
    "    \"\"\"\n",
    "    global resultatsModeles\n",
    "    if 'Modèle' in resultatsModeles.columns:\n",
    "        modeles_existants = dict(resultatsModeles['Modèle'])\n",
    "        if toSave[0] in modeles_existants.values(): # si enregistrement existe on met a jour\n",
    "            id = resultatsModeles.loc[resultatsModeles['Modèle']==toSave[0]].index[0]\n",
    "            print(f'modèle existant on met à jour lindex {id}')\n",
    "            resultatsModeles.iloc[id,1] = toSave[1]\n",
    "            resultatsModeles.iloc[id,2] = toSave[2]\n",
    "            resultatsModeles.iloc[id,3] = toSave[3]\n",
    "            resultatsModeles.iloc[id,4] = toSave[4]\n",
    "            resultatsModeles.iloc[id,5] = toSave[5]\n",
    "        else:\n",
    "            print(f'modèle inconnu on ajoute') # si enregistrement n'existe pas on ajoute\n",
    "            resultatsModeles = resultatsModeles._append({'Modèle': toSave[0], 'Epoch': toSave[1], 'Loss test': toSave[2], 'Accuracy valid': toSave[3], 'Accuracy test': toSave[4], 'Temps': toSave[5]}, ignore_index=True)\n",
    "    else:\n",
    "        # premier enregistrement\n",
    "        resultatsModeles = resultatsModeles._append({'Modèle': toSave[0], 'Epoch': toSave[1], 'Loss test': toSave[2], 'Accuracy valid': toSave[3], 'Accuracy test': toSave[4], 'Temps': toSave[5]}, ignore_index=True)\n",
    "\n",
    "\n",
    "def testResultModel(variables,nom_modele=None,tps_modele=0):\n",
    "    \"\"\"\n",
    "    Calcul du Tsne\n",
    "    Création des clusters\n",
    "    Calcul ARI\n",
    "    \"\"\"\n",
    "    if nom_modele:\n",
    "        print(68*\"_\")\n",
    "        print(f'Modèle : {nom_modele}')\n",
    "        print(68*\"_\")\n",
    "\n",
    "    temps_debut = time.time()\n",
    "    nb_labels = len(liste_categories)\n",
    "\n",
    "    # Calcul du TSNE\n",
    "    tsne = TSNE(n_components=2, perplexity=30, n_iter=2000,\n",
    "                init='random', learning_rate=200, random_state=42)\n",
    "    tsne_result = tsne.fit_transform(variables)\n",
    "\n",
    "    # Création des clusters\n",
    "    cluster = KMeans(n_clusters=nb_labels, n_init=100, random_state=42)\n",
    "    cluster.fit(tsne_result)\n",
    "\n",
    "    # Calcul de l'ari\n",
    "    ari = np.round(adjusted_rand_score(categories_reelles, cluster.labels_),4)\n",
    "    temps_total = np.round(time.time() - temps_debut + tps_modele,4)\n",
    "    print(f' durée transform : {temps_total}      ARI --> {ari}\\n')\n",
    "    graphResultModel(tsne_result,categories_reelles,cluster.labels_)\n",
    "    return[nom_modele,temps_total,ari,tsne_result,cluster.labels_]\n",
    "\n",
    "\n",
    "def graphResultModel(tsne_result,categories_reelles,labels):\n",
    "    fig = plt.figure(figsize=(18,8))\n",
    "    ax = fig.add_subplot(121)\n",
    "    scatter = ax.scatter(tsne_result[:,0],tsne_result[:,1], c=labels, cmap='Set2')\n",
    "    ax.legend(handles=scatter.legend_elements()[0], labels=set(labels), loc=\"best\", title=\"Clusters\")\n",
    "    plt.title('Représentation des clusters calculés')\n",
    "    ax = fig.add_subplot(122)\n",
    "    scatter = ax.scatter(tsne_result[:,0],tsne_result[:,1], c=categories_reelles, cmap='Set2')\n",
    "    ax.legend(handles=scatter.legend_elements()[0], labels=liste_categories, loc=\"best\", title=\"Catégories\")\n",
    "    plt.title('Représentation d\\'après les catégories réelles')\n",
    "    plt.show()"
   ]
  },
  {
   "cell_type": "code",
   "execution_count": 15,
   "id": "bc0bc914-dd8d-4287-98df-da8094ac7c99",
   "metadata": {},
   "outputs": [
    {
     "name": "stdout",
     "output_type": "stream",
     "text": [
      "nombre d'images dans le repertoire: 1050\n"
     ]
    }
   ],
   "source": [
    "for (dirpath, dirnames, filenames) in os.walk(dossierImageSource):\n",
    "    for diname in dirnames:\n",
    "        if ~(dirnames == '.ipynb_checkpoints'):\n",
    "            liste_images = filenames\n",
    "            print(f'nombre d\\'images dans le repertoire: {len(filenames)}')"
   ]
  },
  {
   "cell_type": "markdown",
   "id": "c329983b-080d-426e-94a3-101e62e0fd54",
   "metadata": {},
   "source": [
    "## préparation des données cibles pour les modèles"
   ]
  },
  {
   "cell_type": "code",
   "execution_count": 17,
   "id": "d69de6e9-0412-4279-8033-64204d862bfc",
   "metadata": {},
   "outputs": [],
   "source": [
    "transformer = ColumnTransformer(transformers=[('category', OneHotEncoder(), ['category'])],\n",
    "    verbose_feature_names_out=False)\n",
    "\n",
    "transformer.fit(df[['category']])\n",
    "\n",
    "liste_categories = transformer.get_feature_names_out()\n",
    "y = transformer.transform(df[['category']]).toarray()"
   ]
  },
  {
   "cell_type": "code",
   "execution_count": 18,
   "id": "9e2b6560-dec4-45a3-af4e-913c94f6be15",
   "metadata": {},
   "outputs": [
    {
     "data": {
      "text/plain": [
       "array(['Baby Care', 'Beauty and Personal Care', 'Computers',\n",
       "       'Home Decor & Festive Needs', 'Home Furnishing',\n",
       "       'Kitchen & Dining', 'Watches'], dtype='<U26')"
      ]
     },
     "execution_count": 18,
     "metadata": {},
     "output_type": "execute_result"
    }
   ],
   "source": [
    "new_liste = []\n",
    "for categorie in liste_categories:\n",
    "    new_liste.append(categorie.replace('category_',''))\n",
    "liste_categories = np.array(new_liste)\n",
    "liste_categories"
   ]
  },
  {
   "cell_type": "code",
   "execution_count": 19,
   "id": "1d791053-2df7-4f09-8687-a4bf0353ad51",
   "metadata": {},
   "outputs": [
    {
     "data": {
      "text/plain": [
       "(1050, 7)"
      ]
     },
     "execution_count": 19,
     "metadata": {},
     "output_type": "execute_result"
    }
   ],
   "source": [
    "y.shape"
   ]
  },
  {
   "cell_type": "markdown",
   "id": "b23a8bba-7c7f-4639-837a-01fa0aaba7fb",
   "metadata": {},
   "source": [
    "# Modelisations"
   ]
  },
  {
   "cell_type": "markdown",
   "id": "85918566-422e-4b7a-9667-475f1f2483de",
   "metadata": {},
   "source": [
    "3approches sont présentées :\n",
    "* Une approche simple par préparation initiale de l'ensemble des images avant classification supervisée\n",
    "* Une approche récente proposée par Tensorflow.org par DataSet, sans data augmentation\n",
    "* Une approche par  DataSet, avec data augmentation intégrée au modèle : layer en début de modèle"
   ]
  },
  {
   "cell_type": "markdown",
   "id": "7e2693c7-01d8-463a-a74c-20dc2b8f1de6",
   "metadata": {},
   "source": [
    "## Approche préparation initiale des images"
   ]
  },
  {
   "cell_type": "code",
   "execution_count": 23,
   "id": "ca2773e9-f1c1-424b-99d2-74306c37e4de",
   "metadata": {},
   "outputs": [
    {
     "name": "stdout",
     "output_type": "stream",
     "text": [
      "Préparation de l'image 678/1050"
     ]
    },
    {
     "name": "stderr",
     "output_type": "stream",
     "text": [
      "C:\\Users\\cedric\\anaconda3\\envs\\python3-9\\lib\\site-packages\\PIL\\Image.py:3406: DecompressionBombWarning: Image size (93680328 pixels) exceeds limit of 89478485 pixels, could be decompression bomb DOS attack.\n",
      "  warnings.warn(\n"
     ]
    },
    {
     "name": "stdout",
     "output_type": "stream",
     "text": [
      "Préparation de l'image 1050/1050\n",
      "dimensions du tableau: (1050, 224, 224, 3)\n",
      "temps de prétraitement des images:           207.58 secondes\n"
     ]
    }
   ],
   "source": [
    "def image_prep_fct(data) :\n",
    "    prepared_images = []\n",
    "    for image_num in range(len(data['image'])) :\n",
    "        sys.stdout.write(f\"\\rPréparation de l'image {image_num+1}/{len(data['image'])}\")\n",
    "        sys.stdout.flush()\n",
    "        img = (load_img(dossierImageSource+data['image'][image_num],\n",
    "            target_size=(224, 224)))\n",
    "        img = img_to_array(img)\n",
    "        img = img.reshape((img.shape[0], img.shape[1], img.shape[2]))\n",
    "        img = preprocess_input(img)\n",
    "        prepared_images.append(img)\n",
    "        prepared_images_np = np.array(prepared_images)\n",
    "    return prepared_images_np\n",
    "\n",
    "temps_pretraitement_debut = time.time()\n",
    "X = image_prep_fct(df)\n",
    "print()\n",
    "print(f'dimensions du tableau: {X.shape}')\n",
    "temps_pretraitement = np.round(time.time() - temps_pretraitement_debut,4)\n",
    "print(\"temps de prétraitement des images: \", \"%15.2f\" % temps_pretraitement, \"secondes\")"
   ]
  },
  {
   "cell_type": "code",
   "execution_count": 24,
   "id": "52e6370a-04b8-483a-81ad-9cd1d0052977",
   "metadata": {},
   "outputs": [],
   "source": [
    "def create_model_fct() :\n",
    "    # Récupération modèle pré-entraîné\n",
    "    modeleDeBase = VGG16(include_top=False, weights=\"imagenet\", input_shape=(224, 224, 3))\n",
    "\n",
    "    # Layer non entraînables = on garde les poids du modèle pré-entraîné\n",
    "    for layer in modeleDeBase.layers:\n",
    "        layer.trainable = False\n",
    "\n",
    "    # Récupérer la sortie de ce réseau\n",
    "    x = modeleDeBase.output\n",
    "    # Compléter le modèle\n",
    "    x = GlobalAveragePooling2D()(x)\n",
    "    x = Dense(256, activation='relu')(x)\n",
    "    x = Dropout(0.5)(x)\n",
    "    predictions = Dense(7, activation='softmax')(x)\n",
    "\n",
    "    # Définir le nouveau modèle\n",
    "    model = Model(inputs=modeleDeBase.input, outputs=predictions)\n",
    "    # compilation du modèle \n",
    "    model.compile(loss=\"categorical_crossentropy\", optimizer='rmsprop', metrics=[\"accuracy\"])\n",
    "\n",
    "    print(model.summary())\n",
    "    \n",
    "    return model   "
   ]
  },
  {
   "cell_type": "code",
   "execution_count": 25,
   "id": "8004e78d-6d2d-449d-a4df-b8911e87e407",
   "metadata": {},
   "outputs": [
    {
     "name": "stdout",
     "output_type": "stream",
     "text": [
      "Model: \"model\"\n",
      "_________________________________________________________________\n",
      " Layer (type)                Output Shape              Param #   \n",
      "=================================================================\n",
      " input_1 (InputLayer)        [(None, 224, 224, 3)]     0         \n",
      "                                                                 \n",
      " block1_conv1 (Conv2D)       (None, 224, 224, 64)      1792      \n",
      "                                                                 \n",
      " block1_conv2 (Conv2D)       (None, 224, 224, 64)      36928     \n",
      "                                                                 \n",
      " block1_pool (MaxPooling2D)  (None, 112, 112, 64)      0         \n",
      "                                                                 \n",
      " block2_conv1 (Conv2D)       (None, 112, 112, 128)     73856     \n",
      "                                                                 \n",
      " block2_conv2 (Conv2D)       (None, 112, 112, 128)     147584    \n",
      "                                                                 \n",
      " block2_pool (MaxPooling2D)  (None, 56, 56, 128)       0         \n",
      "                                                                 \n",
      " block3_conv1 (Conv2D)       (None, 56, 56, 256)       295168    \n",
      "                                                                 \n",
      " block3_conv2 (Conv2D)       (None, 56, 56, 256)       590080    \n",
      "                                                                 \n",
      " block3_conv3 (Conv2D)       (None, 56, 56, 256)       590080    \n",
      "                                                                 \n",
      " block3_pool (MaxPooling2D)  (None, 28, 28, 256)       0         \n",
      "                                                                 \n",
      " block4_conv1 (Conv2D)       (None, 28, 28, 512)       1180160   \n",
      "                                                                 \n",
      " block4_conv2 (Conv2D)       (None, 28, 28, 512)       2359808   \n",
      "                                                                 \n",
      " block4_conv3 (Conv2D)       (None, 28, 28, 512)       2359808   \n",
      "                                                                 \n",
      " block4_pool (MaxPooling2D)  (None, 14, 14, 512)       0         \n",
      "                                                                 \n",
      " block5_conv1 (Conv2D)       (None, 14, 14, 512)       2359808   \n",
      "                                                                 \n",
      " block5_conv2 (Conv2D)       (None, 14, 14, 512)       2359808   \n",
      "                                                                 \n",
      " block5_conv3 (Conv2D)       (None, 14, 14, 512)       2359808   \n",
      "                                                                 \n",
      " block5_pool (MaxPooling2D)  (None, 7, 7, 512)         0         \n",
      "                                                                 \n",
      " global_average_pooling2d (G  (None, 512)              0         \n",
      " lobalAveragePooling2D)                                          \n",
      "                                                                 \n",
      " dense (Dense)               (None, 256)               131328    \n",
      "                                                                 \n",
      " dropout (Dropout)           (None, 256)               0         \n",
      "                                                                 \n",
      " dense_1 (Dense)             (None, 7)                 1799      \n",
      "                                                                 \n",
      "=================================================================\n",
      "Total params: 14,847,815\n",
      "Trainable params: 133,127\n",
      "Non-trainable params: 14,714,688\n",
      "_________________________________________________________________\n",
      "None\n"
     ]
    }
   ],
   "source": [
    "# Création du modèle\n",
    "with tf.device('/gpu:0'): \n",
    "    model1 = create_model_fct()\n",
    "\n",
    "# Création du callback\n",
    "model1_save_path1 = \"./model1_best_weights.h5\"\n",
    "checkpoint = ModelCheckpoint(model1_save_path1, monitor='val_loss', verbose=1, save_best_only=True, mode='min')\n",
    "es = EarlyStopping(monitor='val_loss', mode='min', verbose=1, patience=5)\n",
    "csv_logger1 = CSVLogger('model1.log', append=True)\n",
    "callbacks_list = [checkpoint, es, csv_logger1]"
   ]
  },
  {
   "cell_type": "markdown",
   "id": "380a93b5-db61-47eb-b137-64b0ed6fce14",
   "metadata": {},
   "source": [
    "### Separation des données"
   ]
  },
  {
   "cell_type": "markdown",
   "id": "90f46ee4-8657-4728-9290-3dbc9ed0e9ce",
   "metadata": {},
   "source": [
    "separation des données en 80% train, 10% validation, 10% test"
   ]
  },
  {
   "cell_type": "code",
   "execution_count": 28,
   "id": "06c82084-91b8-47f4-aaa6-02ce821cdc9c",
   "metadata": {},
   "outputs": [
    {
     "name": "stdout",
     "output_type": "stream",
     "text": [
      "taille du jeu d'entrainement: (840, 224, 224, 3)\n",
      "taille du jeu de validation  : (105, 224, 224, 3)\n",
      "taille du jeu de test        : (105, 224, 224, 3)\n"
     ]
    }
   ],
   "source": [
    "X_train, X_valtest, y_train, y_valtest = train_test_split(X, y, stratify=y, test_size=0.2, random_state=42)\n",
    "X_valid, X_test, y_valid, y_test = train_test_split(X_valtest, y_valtest, stratify=y_valtest, test_size=0.5, random_state=42)\n",
    "\n",
    "print(f'taille du jeu d\\'entrainement: {X_train.shape}')\n",
    "print(f'taille du jeu de validation  : {X_valid.shape}')\n",
    "print(f'taille du jeu de test        : {X_test.shape}')"
   ]
  },
  {
   "cell_type": "markdown",
   "id": "065e8891-f2f4-4590-8425-fe001ccbe625",
   "metadata": {},
   "source": [
    "### Entrainement du modèle"
   ]
  },
  {
   "cell_type": "code",
   "execution_count": 30,
   "id": "9b3ea7c3-f266-4f32-96fe-5fa9db45fcc5",
   "metadata": {},
   "outputs": [
    {
     "name": "stdout",
     "output_type": "stream",
     "text": [
      "Epoch 1/50\n",
      "14/14 [==============================] - ETA: 0s - loss: 5.6125 - accuracy: 0.4560\n",
      "Epoch 1: val_loss improved from inf to 1.44951, saving model to .\\model1_best_weights.h5\n",
      "14/14 [==============================] - 68s 5s/step - loss: 5.6125 - accuracy: 0.4560 - val_loss: 1.4495 - val_accuracy: 0.7143\n",
      "Epoch 2/50\n",
      "14/14 [==============================] - ETA: 0s - loss: 1.9493 - accuracy: 0.6810\n",
      "Epoch 2: val_loss improved from 1.44951 to 1.05880, saving model to .\\model1_best_weights.h5\n",
      "14/14 [==============================] - 68s 5s/step - loss: 1.9493 - accuracy: 0.6810 - val_loss: 1.0588 - val_accuracy: 0.7619\n",
      "Epoch 3/50\n",
      "14/14 [==============================] - ETA: 0s - loss: 1.4273 - accuracy: 0.7500\n",
      "Epoch 3: val_loss improved from 1.05880 to 0.78876, saving model to .\\model1_best_weights.h5\n",
      "14/14 [==============================] - 68s 5s/step - loss: 1.4273 - accuracy: 0.7500 - val_loss: 0.7888 - val_accuracy: 0.8286\n",
      "Epoch 4/50\n",
      "14/14 [==============================] - ETA: 0s - loss: 0.8988 - accuracy: 0.8012\n",
      "Epoch 4: val_loss improved from 0.78876 to 0.72798, saving model to .\\model1_best_weights.h5\n",
      "14/14 [==============================] - 68s 5s/step - loss: 0.8988 - accuracy: 0.8012 - val_loss: 0.7280 - val_accuracy: 0.8381\n",
      "Epoch 5/50\n",
      "14/14 [==============================] - ETA: 0s - loss: 0.6672 - accuracy: 0.8333\n",
      "Epoch 5: val_loss improved from 0.72798 to 0.71512, saving model to .\\model1_best_weights.h5\n",
      "14/14 [==============================] - 67s 5s/step - loss: 0.6672 - accuracy: 0.8333 - val_loss: 0.7151 - val_accuracy: 0.8286\n",
      "Epoch 6/50\n",
      "14/14 [==============================] - ETA: 0s - loss: 0.5475 - accuracy: 0.8500\n",
      "Epoch 6: val_loss improved from 0.71512 to 0.61647, saving model to .\\model1_best_weights.h5\n",
      "14/14 [==============================] - 67s 5s/step - loss: 0.5475 - accuracy: 0.8500 - val_loss: 0.6165 - val_accuracy: 0.8381\n",
      "Epoch 7/50\n",
      "14/14 [==============================] - ETA: 0s - loss: 0.3820 - accuracy: 0.8893\n",
      "Epoch 7: val_loss did not improve from 0.61647\n",
      "14/14 [==============================] - 66s 5s/step - loss: 0.3820 - accuracy: 0.8893 - val_loss: 0.6228 - val_accuracy: 0.8476\n",
      "Epoch 8/50\n",
      "14/14 [==============================] - ETA: 0s - loss: 0.3340 - accuracy: 0.8976\n",
      "Epoch 8: val_loss did not improve from 0.61647\n",
      "14/14 [==============================] - 66s 5s/step - loss: 0.3340 - accuracy: 0.8976 - val_loss: 0.6221 - val_accuracy: 0.8667\n",
      "Epoch 9/50\n",
      "14/14 [==============================] - ETA: 0s - loss: 0.2860 - accuracy: 0.9190\n",
      "Epoch 9: val_loss improved from 0.61647 to 0.57758, saving model to .\\model1_best_weights.h5\n",
      "14/14 [==============================] - 67s 5s/step - loss: 0.2860 - accuracy: 0.9190 - val_loss: 0.5776 - val_accuracy: 0.8381\n",
      "Epoch 10/50\n",
      "14/14 [==============================] - ETA: 0s - loss: 0.2219 - accuracy: 0.9345\n",
      "Epoch 10: val_loss improved from 0.57758 to 0.54234, saving model to .\\model1_best_weights.h5\n",
      "14/14 [==============================] - 67s 5s/step - loss: 0.2219 - accuracy: 0.9345 - val_loss: 0.5423 - val_accuracy: 0.8476\n",
      "Epoch 11/50\n",
      "14/14 [==============================] - ETA: 0s - loss: 0.1882 - accuracy: 0.9357\n",
      "Epoch 11: val_loss improved from 0.54234 to 0.53984, saving model to .\\model1_best_weights.h5\n",
      "14/14 [==============================] - 68s 5s/step - loss: 0.1882 - accuracy: 0.9357 - val_loss: 0.5398 - val_accuracy: 0.8571\n",
      "Epoch 12/50\n",
      "14/14 [==============================] - ETA: 0s - loss: 0.1598 - accuracy: 0.9464\n",
      "Epoch 12: val_loss did not improve from 0.53984\n",
      "14/14 [==============================] - 66s 5s/step - loss: 0.1598 - accuracy: 0.9464 - val_loss: 0.5771 - val_accuracy: 0.8476\n",
      "Epoch 13/50\n",
      "14/14 [==============================] - ETA: 0s - loss: 0.1218 - accuracy: 0.9536\n",
      "Epoch 13: val_loss did not improve from 0.53984\n",
      "14/14 [==============================] - 66s 5s/step - loss: 0.1218 - accuracy: 0.9536 - val_loss: 0.7200 - val_accuracy: 0.8476\n",
      "Epoch 14/50\n",
      "14/14 [==============================] - ETA: 0s - loss: 0.1328 - accuracy: 0.9667\n",
      "Epoch 14: val_loss did not improve from 0.53984\n",
      "14/14 [==============================] - 66s 5s/step - loss: 0.1328 - accuracy: 0.9667 - val_loss: 0.6736 - val_accuracy: 0.8476\n",
      "Epoch 15/50\n",
      "14/14 [==============================] - ETA: 0s - loss: 0.1199 - accuracy: 0.9548\n",
      "Epoch 15: val_loss did not improve from 0.53984\n",
      "14/14 [==============================] - 66s 5s/step - loss: 0.1199 - accuracy: 0.9548 - val_loss: 0.6516 - val_accuracy: 0.8381\n",
      "Epoch 16/50\n",
      "14/14 [==============================] - ETA: 0s - loss: 0.0650 - accuracy: 0.9738\n",
      "Epoch 16: val_loss did not improve from 0.53984\n",
      "14/14 [==============================] - 67s 5s/step - loss: 0.0650 - accuracy: 0.9738 - val_loss: 0.6030 - val_accuracy: 0.8667\n",
      "Epoch 16: early stopping\n",
      "temps d'entrainement du modèle:          1071.54 secondes\n"
     ]
    }
   ],
   "source": [
    "# Entraîner sur les données d'entraînement (X_train, y_train)\n",
    "temps_modele1_debut = time.time()\n",
    "with tf.device('/gpu:0'): \n",
    "    history1 = model1.fit(X_train, y_train, epochs=50, batch_size=64, \n",
    "                       callbacks=callbacks_list, validation_data=(X_valid, y_valid), verbose=1)\n",
    "temps_modele1 = np.round(time.time() - temps_modele1_debut,4)\n",
    "print(\"temps d\\'entrainement du modèle: \", \"%15.2f\" % temps_modele1, \"secondes\")"
   ]
  },
  {
   "cell_type": "markdown",
   "id": "c655ab06-05d4-4853-88e7-126dc29bd6df",
   "metadata": {},
   "source": [
    "### Scores"
   ]
  },
  {
   "cell_type": "code",
   "execution_count": 32,
   "id": "a65a6761-d49e-44cd-a21b-358b5807a49a",
   "metadata": {},
   "outputs": [
    {
     "name": "stdout",
     "output_type": "stream",
     "text": [
      "27/27 [==============================] - 58s 2s/step - loss: 0.0042 - accuracy: 1.0000\n",
      "Training Accuracy: 1.0000\n",
      "\n",
      "4/4 [==============================] - 7s 2s/step - loss: 0.6030 - accuracy: 0.8667\n",
      "Validation Accuracy:  0.8667\n"
     ]
    }
   ],
   "source": [
    "# Score du dernier epoch\n",
    "\n",
    "loss, accuracy = model1.evaluate(X_train, y_train, verbose=True)\n",
    "print(\"Training Accuracy: {:.4f}\".format(accuracy))\n",
    "print()\n",
    "loss, accuracy = model1.evaluate(X_valid, y_valid, verbose=True)\n",
    "print(\"Validation Accuracy:  {:.4f}\".format(accuracy))"
   ]
  },
  {
   "cell_type": "code",
   "execution_count": 33,
   "id": "a7177d74-4966-497e-95ac-04c7b460cce8",
   "metadata": {},
   "outputs": [
    {
     "name": "stdout",
     "output_type": "stream",
     "text": [
      "Validation Accuracy :  0.8571\n",
      "Test Accuracy       :  0.7619\n"
     ]
    }
   ],
   "source": [
    "# Score de l'epoch optimal\n",
    "model1.load_weights(model1_save_path1)\n",
    "\n",
    "lossVal1, accuracyVal1 = model1.evaluate(X_valid, y_valid, verbose=False)\n",
    "print(\"Validation Accuracy :  {:.4f}\".format(accuracyVal1))\n",
    "\n",
    "lossTest1, accuracyTest1 = model1.evaluate(X_test, y_test, verbose=False)\n",
    "print(\"Test Accuracy       :  {:.4f}\".format(accuracyTest1))"
   ]
  },
  {
   "cell_type": "code",
   "execution_count": 34,
   "id": "83c367cc-acc5-4e07-935e-8d5c23365a71",
   "metadata": {},
   "outputs": [
    {
     "data": {
      "image/png": "[encoded data removed]",
      "text/plain": [
       "<Figure size 1000x500 with 2 Axes>"
      ]
     },
     "metadata": {},
     "output_type": "display_data"
    }
   ],
   "source": [
    "from plot_keras_history import show_history, plot_history\n",
    "import matplotlib.pyplot as plt\n",
    "\n",
    "show_history(history1)\n",
    "plot_history(history1, path=\"approche_prepa_initiale.png\")\n",
    "plt.close()"
   ]
  },
  {
   "cell_type": "code",
   "execution_count": 35,
   "id": "ecac39fe-46c0-4e9c-a74b-52fdf64f5a12",
   "metadata": {},
   "outputs": [],
   "source": [
    "dfHistMod1 = pd.read_csv('model1.log')\n",
    "saveResults(['Préparation initiale images', len(dfHistMod1['epoch'])-1, lossTest1, accuracyVal1, accuracyTest1, round(temps_modele1,2)])"
   ]
  },
  {
   "cell_type": "code",
   "execution_count": 36,
   "id": "98a6d7cb-60ad-4d32-9d1e-dd2f248d62dc",
   "metadata": {},
   "outputs": [
    {
     "name": "stdout",
     "output_type": "stream",
     "text": [
      "4/4 [==============================] - 7s 2s/step\n",
      "[4 6 0 6 5 5 1 3 3 3 3 3 6 1 4 6 1 2 5 6 6 6 1 1 3 2 1 3 5 1 2 2 4 2 6 2 4\n",
      " 6 0 0 1 5 2 2 4 4 5 4 5 3 5 5 2 0 0 5 0 4 4 4 0 6 1 1 2 1 4 2 5 0 0 0 5 6\n",
      " 1 2 5 4 5 0 2 3 2 1 2 4 4 3 0 5 6 1 3 0 0 0 3 1 3 6 6 4 6 3 3]\n",
      "\n",
      "[4 6 0 6 5 5 5 3 2 0 3 5 6 1 4 6 1 2 5 6 1 6 1 1 3 2 1 3 5 1 2 2 3 2 6 2 4\n",
      " 6 3 0 1 5 2 2 4 4 5 4 5 3 5 5 2 0 0 3 0 4 0 4 0 6 1 1 2 4 4 2 5 0 2 0 5 6\n",
      " 1 2 5 4 5 0 2 3 2 3 5 4 4 3 0 5 6 1 0 0 0 0 3 1 3 6 6 4 6 3 5]\n"
     ]
    }
   ],
   "source": [
    "y_val_num = np.argmax(y_valid, axis=1)\n",
    "y_val_pred = np.argmax(model1.predict(X_valid), axis=1)\n",
    "y_val_num = np.argmax(y_valid, axis=1)\n",
    "print(y_val_num)\n",
    "print()\n",
    "print(y_val_pred)"
   ]
  },
  {
   "cell_type": "code",
   "execution_count": 37,
   "id": "3aedb38f-f26d-493a-96a3-aa383c05a6c1",
   "metadata": {},
   "outputs": [
    {
     "name": "stdout",
     "output_type": "stream",
     "text": [
      "              precision    recall  f1-score   support\n",
      "\n",
      "           0       0.81      0.87      0.84        15\n",
      "           1       0.92      0.80      0.86        15\n",
      "           2       0.88      0.93      0.90        15\n",
      "           3       0.71      0.67      0.69        15\n",
      "           4       0.93      0.87      0.90        15\n",
      "           5       0.78      0.93      0.85        15\n",
      "           6       1.00      0.93      0.97        15\n",
      "\n",
      "    accuracy                           0.86       105\n",
      "   macro avg       0.86      0.86      0.86       105\n",
      "weighted avg       0.86      0.86      0.86       105\n",
      "\n"
     ]
    }
   ],
   "source": [
    "conf_mat = metrics.confusion_matrix(y_val_num, y_val_pred)\n",
    "print(metrics.classification_report(y_val_num, y_val_pred))"
   ]
  },
  {
   "cell_type": "markdown",
   "id": "adbd5d30-85b8-4568-8998-6e259f7e5178",
   "metadata": {},
   "source": [
    "### Matrice de confusion"
   ]
  },
  {
   "cell_type": "code",
   "execution_count": 39,
   "id": "76445ac3-ae63-478b-b01e-cf128316bb73",
   "metadata": {},
   "outputs": [
    {
     "data": {
      "text/plain": [
       "<Axes: >"
      ]
     },
     "execution_count": 39,
     "metadata": {},
     "output_type": "execute_result"
    },
    {
     "data": {
      "image/png": "[encoded data removed]",
      "text/plain": [
       "<Figure size 600x400 with 2 Axes>"
      ]
     },
     "metadata": {},
     "output_type": "display_data"
    }
   ],
   "source": [
    "df_cm = pd.DataFrame(conf_mat, index = [label for label in liste_categories],\n",
    "                  columns = [i for i in \"0123456\"])\n",
    "plt.figure(figsize = (6,4))\n",
    "sns.heatmap(df_cm, annot=True, cmap=\"Blues\")"
   ]
  },
  {
   "cell_type": "markdown",
   "id": "01abe5a0-a57e-43cf-bde5-f52c4774c1c8",
   "metadata": {},
   "source": [
    "## Approche nouvelle par Dataset sans data augmentation¶"
   ]
  },
  {
   "cell_type": "code",
   "execution_count": 41,
   "id": "214a35cd-5e4e-4f9c-8972-c2226d064437",
   "metadata": {},
   "outputs": [],
   "source": [
    "from tensorflow.keras.preprocessing.image import ImageDataGenerator"
   ]
  },
  {
   "cell_type": "markdown",
   "id": "e484613d-30cb-4db4-bb9d-a22496ef0a5f",
   "metadata": {},
   "source": [
    "### Tri des fichiers images selon les catégories"
   ]
  },
  {
   "cell_type": "code",
   "execution_count": 43,
   "id": "f34f3348-59e2-4826-a415-b221e33309ea",
   "metadata": {},
   "outputs": [
    {
     "data": {
      "text/plain": [
       "array(['Baby Care', 'Beauty and Personal Care', 'Computers',\n",
       "       'Home Decor & Festive Needs', 'Home Furnishing',\n",
       "       'Kitchen & Dining', 'Watches'], dtype='<U26')"
      ]
     },
     "execution_count": 43,
     "metadata": {},
     "output_type": "execute_result"
    }
   ],
   "source": [
    "liste_categories"
   ]
  },
  {
   "cell_type": "code",
   "execution_count": 44,
   "id": "5c1d2349-6289-4520-9f61-9254822031f6",
   "metadata": {},
   "outputs": [],
   "source": [
    "# Création des repertoires associès aux catégories\n",
    "images_origines = 'data/source/images'\n",
    "images_classees = 'data/source/images_triees'\n",
    "images_test = 'data/source/images_triees_test'\n",
    "CreationDir(images_classees)\n",
    "CreationDir(images_test)\n",
    "\n",
    "for dossier in liste_categories:\n",
    "    CreationDir(images_classees+'/'+dossier.replace(' ','_'))\n",
    "    CreationDir(images_test+'/'+dossier.replace(' ','_'))"
   ]
  },
  {
   "cell_type": "code",
   "execution_count": 45,
   "id": "a3e03224-f728-4ebb-8cfb-3f34151b3cc2",
   "metadata": {},
   "outputs": [
    {
     "name": "stdout",
     "output_type": "stream",
     "text": [
      "Tri de l'image 1050/1050"
     ]
    }
   ],
   "source": [
    "# Déplacement des images dans des dossiers associés aux categories\n",
    "import shutil\n",
    "nb_images = len(df['image'])\n",
    "for id_img in range(nb_images):\n",
    "    sys.stdout.write(f\"\\rTri de l'image {id_img+1}/{nb_images}\")\n",
    "    sys.stdout.flush()\n",
    "    shutil.copy2(images_origines+'/'+df['image'][id_img],images_classees+'/'+df['category'][id_img].replace(' ','_'))\n",
    "    "
   ]
  },
  {
   "cell_type": "code",
   "execution_count": 46,
   "id": "5ba50d29-d84e-4eae-8b44-39901041f90b",
   "metadata": {},
   "outputs": [
    {
     "name": "stdout",
     "output_type": "stream",
     "text": [
      "le dossier Baby_Care contient 150 fichiers\n",
      "nous déplaçons 15 fichiers vers le set de test\n",
      "data/source/images_triees_test/Baby_Care\\260c74b5a09272dec1a8207db3541a0d.jpg\n",
      "data/source/images_triees_test/Baby_Care\\46ca672fdfff8a1b3641642a9795344a.jpg\n",
      "data/source/images_triees_test/Baby_Care\\da2ce8d17a17f9d19b368434aedea5e9.jpg\n",
      "data/source/images_triees_test/Baby_Care\\601817defaff9d0e30e1b72f96d3975f.jpg\n",
      "data/source/images_triees_test/Baby_Care\\29d7a1b4d4f658fc3082905f65e1b009.jpg\n",
      "data/source/images_triees_test/Baby_Care\\d774c05556d3de1f991d1a46e204a0ad.jpg\n",
      "data/source/images_triees_test/Baby_Care\\9ec6285cc619688d787d641cb87c10d6.jpg\n",
      "data/source/images_triees_test/Baby_Care\\23b0bdd337f7d1b4b70ad13726a122ab.jpg\n",
      "data/source/images_triees_test/Baby_Care\\e40e9b4ae48e452dc407d299b467d0c3.jpg\n",
      "data/source/images_triees_test/Baby_Care\\68b32e026c109c1bae017d024dd8f590.jpg\n",
      "data/source/images_triees_test/Baby_Care\\aa41433dfba2c7561fa30be3fed1e8f0.jpg\n",
      "data/source/images_triees_test/Baby_Care\\958f54f4c46b53c8a0a9b8167d9140bc.jpg\n",
      "data/source/images_triees_test/Baby_Care\\6d460d2e12ff7c84cb6b9af783d465ae.jpg\n",
      "data/source/images_triees_test/Baby_Care\\a378736c1510a13966b42c2d6462f526.jpg\n",
      "data/source/images_triees_test/Baby_Care\\93618b8a998782d4d847ee5cba5c7de2.jpg\n",
      "le dossier Beauty_and_Personal_Care contient 150 fichiers\n",
      "nous déplaçons 15 fichiers vers le set de test\n",
      "data/source/images_triees_test/Beauty_and_Personal_Care\\1d829e0eac91d7e85cdd6d581c363360.jpg\n",
      "data/source/images_triees_test/Beauty_and_Personal_Care\\51dc964c7a47293ff0ed0c6912813722.jpg\n",
      "data/source/images_triees_test/Beauty_and_Personal_Care\\1971dcd2f3058a4c87bdd7d87d4baeba.jpg\n",
      "data/source/images_triees_test/Beauty_and_Personal_Care\\456ec612b30d4b091639843cdb66bf54.jpg\n",
      "data/source/images_triees_test/Beauty_and_Personal_Care\\1d1be744e491ed61e705c20e4a72320d.jpg\n",
      "data/source/images_triees_test/Beauty_and_Personal_Care\\9993de7e2bcced43dc9edb3b2c81f23d.jpg\n",
      "data/source/images_triees_test/Beauty_and_Personal_Care\\dd0b73d97cea6cc71d263a77fa7982be.jpg\n",
      "data/source/images_triees_test/Beauty_and_Personal_Care\\2d4f1232af970bd19881ceacad6ccfe3.jpg\n",
      "data/source/images_triees_test/Beauty_and_Personal_Care\\36b965559aa2b97cb961a603f18a9183.jpg\n",
      "data/source/images_triees_test/Beauty_and_Personal_Care\\7241df1acae1fac892c692097ea3fb98.jpg\n",
      "data/source/images_triees_test/Beauty_and_Personal_Care\\07f8bdc4372a73d0820507683a936b6e.jpg\n",
      "data/source/images_triees_test/Beauty_and_Personal_Care\\48b9e7f78348b95955d7484910b7af15.jpg\n",
      "data/source/images_triees_test/Beauty_and_Personal_Care\\66a5a21ea332aefcc7b90dbad94053aa.jpg\n",
      "data/source/images_triees_test/Beauty_and_Personal_Care\\9a02f44389bda4c60e7dc23947dbca58.jpg\n",
      "data/source/images_triees_test/Beauty_and_Personal_Care\\aa82b75da7579007963e53b6f818281b.jpg\n",
      "le dossier Computers contient 150 fichiers\n",
      "nous déplaçons 15 fichiers vers le set de test\n",
      "data/source/images_triees_test/Computers\\5bc04e6a0b6256dc78bb9cb22b39ef41.jpg\n",
      "data/source/images_triees_test/Computers\\884ff6050ff3d6b2c8f681c300a21b2a.jpg\n",
      "data/source/images_triees_test/Computers\\2c475daafe597ed93c1e27fcaa38d8cc.jpg\n",
      "data/source/images_triees_test/Computers\\b4327c9879644be2a04e9b2df963f6cb.jpg\n",
      "data/source/images_triees_test/Computers\\7fd12776e6d62da6e1dd3cbc9882ee5f.jpg\n",
      "data/source/images_triees_test/Computers\\e2ae2af58ac50adf4881751ae84a9d8a.jpg\n",
      "data/source/images_triees_test/Computers\\4fe24e100a5fcc33cf6054ef101067ed.jpg\n",
      "data/source/images_triees_test/Computers\\2a20862f02555a44b0ab301bed987a0b.jpg\n",
      "data/source/images_triees_test/Computers\\de47d0cc0c4875fb97530f66d934c894.jpg\n",
      "data/source/images_triees_test/Computers\\d43d9bb261aaaf818c81a645e727b2d3.jpg\n",
      "data/source/images_triees_test/Computers\\281dfd9b94b34362c295b3e5f8da5dfa.jpg\n",
      "data/source/images_triees_test/Computers\\64b463dc0b75ae40a848498c657041e6.jpg\n",
      "data/source/images_triees_test/Computers\\85aec4bf3185da7ebcc45003429cbfe2.jpg\n",
      "data/source/images_triees_test/Computers\\7815fb39feb773db944c9f03bbdcbf64.jpg\n",
      "data/source/images_triees_test/Computers\\7cdc62f8d3f7ab8b9d2dddc14c86de83.jpg\n",
      "le dossier Home_Decor_&_Festive_Needs contient 150 fichiers\n",
      "nous déplaçons 15 fichiers vers le set de test\n",
      "data/source/images_triees_test/Home_Decor_&_Festive_Needs\\5c0fe2919e49f30aff91d46800cdf149.jpg\n",
      "data/source/images_triees_test/Home_Decor_&_Festive_Needs\\7e11aaffb1d08f8091ea94598f7865aa.jpg\n",
      "data/source/images_triees_test/Home_Decor_&_Festive_Needs\\53f4bc7d7321f5c41de6b86e41f13e80.jpg\n",
      "data/source/images_triees_test/Home_Decor_&_Festive_Needs\\45204a03550940bdcbc8e4703c07f550.jpg\n",
      "data/source/images_triees_test/Home_Decor_&_Festive_Needs\\032e812adcd11a38fd8b764891a852ff.jpg\n",
      "data/source/images_triees_test/Home_Decor_&_Festive_Needs\\3ba13df7877fd979d64c87c7586a5ca6.jpg\n",
      "data/source/images_triees_test/Home_Decor_&_Festive_Needs\\e921fc17a0ed9a58f76d38558deb9337.jpg\n",
      "data/source/images_triees_test/Home_Decor_&_Festive_Needs\\9906d8f74589c452b00f2b5642a63c5f.jpg\n",
      "data/source/images_triees_test/Home_Decor_&_Festive_Needs\\40d7d3d1961236dd814e15592fa52994.jpg\n",
      "data/source/images_triees_test/Home_Decor_&_Festive_Needs\\82fbc93cd45ab747e7e606f2c52c7335.jpg\n",
      "data/source/images_triees_test/Home_Decor_&_Festive_Needs\\b0229d4466ac60c7ba53c7ce9fabad7c.jpg\n",
      "data/source/images_triees_test/Home_Decor_&_Festive_Needs\\fda51c31a1b7ae8f3c7b5c0174d3e201.jpg\n",
      "data/source/images_triees_test/Home_Decor_&_Festive_Needs\\9e07a3eeee6aa9e656106281cdd30d67.jpg\n",
      "data/source/images_triees_test/Home_Decor_&_Festive_Needs\\fd75569f00649bda69d490d54e01378c.jpg\n",
      "data/source/images_triees_test/Home_Decor_&_Festive_Needs\\c6adf41cd378b1f6a7ac62675b060411.jpg\n",
      "le dossier Home_Furnishing contient 150 fichiers\n",
      "nous déplaçons 15 fichiers vers le set de test\n",
      "data/source/images_triees_test/Home_Furnishing\\ee27bc4719ae58c5cb3f1dede61fcf54.jpg\n",
      "data/source/images_triees_test/Home_Furnishing\\e1e2883b6845cb214ec8d365cd496008.jpg\n",
      "data/source/images_triees_test/Home_Furnishing\\cf1be83386eb96b2ab9598944ebca6fc.jpg\n",
      "data/source/images_triees_test/Home_Furnishing\\39242e5488cf65d8d59eccb2b80e4a65.jpg\n",
      "data/source/images_triees_test/Home_Furnishing\\994f1d8ade16b9fddce3c127eb7f38ed.jpg\n",
      "data/source/images_triees_test/Home_Furnishing\\73901494efea71869576898c68b5eee4.jpg\n",
      "data/source/images_triees_test/Home_Furnishing\\336fc49639a5cc45aa532ace3ee1a044.jpg\n",
      "data/source/images_triees_test/Home_Furnishing\\e6b483fce5fd910afda67d97dc04e775.jpg\n",
      "data/source/images_triees_test/Home_Furnishing\\b2e4a7feb6bbca9cca2c0c1e18acbcfc.jpg\n",
      "data/source/images_triees_test/Home_Furnishing\\5cd3d274d71e1e0d6bf075421461b2d5.jpg\n",
      "data/source/images_triees_test/Home_Furnishing\\7436c011ebdfd24b56a77893f210ed3b.jpg\n",
      "data/source/images_triees_test/Home_Furnishing\\5be86e35f21b1514d0e7742893d6cfba.jpg\n",
      "data/source/images_triees_test/Home_Furnishing\\fb42fce44e11f4dab8de99f8488281f8.jpg\n",
      "data/source/images_triees_test/Home_Furnishing\\ce9207944cedeaa82e4ea6269586af2a.jpg\n",
      "data/source/images_triees_test/Home_Furnishing\\90453db0386931707b256dfa1e32c404.jpg\n",
      "le dossier Kitchen_&_Dining contient 150 fichiers\n",
      "nous déplaçons 15 fichiers vers le set de test\n",
      "data/source/images_triees_test/Kitchen_&_Dining\\5dbf978ab2cf9d2da6446d3e4595f690.jpg\n",
      "data/source/images_triees_test/Kitchen_&_Dining\\7956d9586de3e25ff586bca58be7195e.jpg\n",
      "data/source/images_triees_test/Kitchen_&_Dining\\0ddc40c08d9a9bafc4d14eddd98db7c0.jpg\n",
      "data/source/images_triees_test/Kitchen_&_Dining\\02127f52e96fb72c66bf081d25104ef8.jpg\n",
      "data/source/images_triees_test/Kitchen_&_Dining\\beaa6285a2b9c66db0e294767711ca3f.jpg\n",
      "data/source/images_triees_test/Kitchen_&_Dining\\fc8ff72b68b0f3736a9aff8f03aa712f.jpg\n",
      "data/source/images_triees_test/Kitchen_&_Dining\\6775e3b91baa4d368f6d91eb7c24578b.jpg\n",
      "data/source/images_triees_test/Kitchen_&_Dining\\503bb08f7bdf6a395ec564dd1dc83619.jpg\n",
      "data/source/images_triees_test/Kitchen_&_Dining\\c4581cae6bf751a7ae5c40bb16b74e98.jpg\n",
      "data/source/images_triees_test/Kitchen_&_Dining\\799ddb97164ff2d5d53bb8b27b8c355f.jpg\n",
      "data/source/images_triees_test/Kitchen_&_Dining\\6da53319cc12c9729881f5478ff67223.jpg\n",
      "data/source/images_triees_test/Kitchen_&_Dining\\0c70a580d96e50966130e2885d8c3505.jpg\n",
      "data/source/images_triees_test/Kitchen_&_Dining\\fc7abdf67b4d7dbf64dffbab7b37599c.jpg\n",
      "data/source/images_triees_test/Kitchen_&_Dining\\9077acd25761ea067ac6d9369d8fdf16.jpg\n",
      "data/source/images_triees_test/Kitchen_&_Dining\\3b0f02b3acf1825f8bbc1fb3b860dbb8.jpg\n",
      "le dossier Watches contient 150 fichiers\n",
      "nous déplaçons 15 fichiers vers le set de test\n",
      "data/source/images_triees_test/Watches\\a7bd63ef1d3b345d7f9a162865bb7c0d.jpg\n",
      "data/source/images_triees_test/Watches\\697ad1d2e45c1af54cab7847cbe324d8.jpg\n",
      "data/source/images_triees_test/Watches\\51c9062e6538c787b14a75a6a7cb7fb3.jpg\n",
      "data/source/images_triees_test/Watches\\1e8741b5ae27a513546c94b3f3312aee.jpg\n",
      "data/source/images_triees_test/Watches\\dbcaa93cc0542079e9c88db51ec23676.jpg\n",
      "data/source/images_triees_test/Watches\\c7207128c680a437e1cad834a8880007.jpg\n",
      "data/source/images_triees_test/Watches\\710ed5f2393a4b9e8823aa0029f71f93.jpg\n",
      "data/source/images_triees_test/Watches\\66b75f053cb7626f49f1a9bffe77b451.jpg\n",
      "data/source/images_triees_test/Watches\\fda50982a672ef8835de5c1cc86f8bfc.jpg\n",
      "data/source/images_triees_test/Watches\\144a5e05bd6e69535c53366a805a8b5f.jpg\n",
      "data/source/images_triees_test/Watches\\79e6b64a09ec7d393be193430ea732fe.jpg\n",
      "data/source/images_triees_test/Watches\\d77279c8268e231b685cdbaf299e83f2.jpg\n",
      "data/source/images_triees_test/Watches\\30305ade337a4dde171afb90141bcaaa.jpg\n",
      "data/source/images_triees_test/Watches\\059bc43e03e1824a9ab6466e32e5f137.jpg\n",
      "data/source/images_triees_test/Watches\\71ff6abd7764f2a42fcbefc11429be2d.jpg\n"
     ]
    }
   ],
   "source": [
    "# Déplacement des images de tests dans un dossier spécial\n",
    "nb_file_test_categ = 15\n",
    "dir_list = os.listdir(images_classees)\n",
    "for repertoire in dir_list:\n",
    "    if ~(repertoire == '.ipynb_checkpoints'):\n",
    "        files_list = os.listdir(images_classees+'/'+repertoire)    \n",
    "        if '.ipynb_checkpoints' in files_list:\n",
    "            files_list.remove('.ipynb_checkpoints')\n",
    "        print(f'le dossier {repertoire} contient {len(files_list)} fichiers')\n",
    "        if len(files_list) > 140:\n",
    "            files2move = random.sample(files_list, nb_file_test_categ)\n",
    "            print(f'nous déplaçons {nb_file_test_categ} fichiers vers le set de test')\n",
    "            for file2move in files2move:\n",
    "                moved = shutil.move(images_classees+'/'+repertoire+'/'+file2move,images_test+'/'+repertoire)\n",
    "                print(moved)"
   ]
  },
  {
   "cell_type": "code",
   "execution_count": 47,
   "id": "3c2c9841-ef40-4f80-99bc-738e1ba42023",
   "metadata": {},
   "outputs": [],
   "source": [
    "batch_size = 32\n",
    "\n",
    "def dataset_fct(path, validation_split=0, data_type=None) :\n",
    "    dataset = tf.keras.utils.image_dataset_from_directory(\n",
    "                    path, labels='inferred', label_mode='categorical',\n",
    "                    class_names=None, batch_size=batch_size, image_size=(224, 224), shuffle=True, seed=42,\n",
    "                    validation_split=validation_split, subset=data_type\n",
    "                    )\n",
    "    return dataset"
   ]
  },
  {
   "cell_type": "code",
   "execution_count": 48,
   "id": "d986700f-f880-4d1c-a168-8e7dd15829e3",
   "metadata": {},
   "outputs": [
    {
     "name": "stdout",
     "output_type": "stream",
     "text": [
      "Found 945 files belonging to 7 classes.\n",
      "Using 840 files for training.\n",
      "Found 945 files belonging to 7 classes.\n",
      "Using 105 files for validation.\n",
      "Found 105 files belonging to 7 classes.\n"
     ]
    }
   ],
   "source": [
    "dataset_train = dataset_fct(images_classees, validation_split=0.112, data_type='training')\n",
    "dataset_val = dataset_fct(images_classees, validation_split=0.112, data_type='validation')\n",
    "dataset_test = dataset_fct(images_test, validation_split=0, data_type=None)"
   ]
  },
  {
   "cell_type": "code",
   "execution_count": 49,
   "id": "7b906c76-3f95-4a44-9461-8b951be60622",
   "metadata": {},
   "outputs": [
    {
     "name": "stdout",
     "output_type": "stream",
     "text": [
      "Model: \"model_1\"\n",
      "_________________________________________________________________\n",
      " Layer (type)                Output Shape              Param #   \n",
      "=================================================================\n",
      " input_2 (InputLayer)        [(None, 224, 224, 3)]     0         \n",
      "                                                                 \n",
      " block1_conv1 (Conv2D)       (None, 224, 224, 64)      1792      \n",
      "                                                                 \n",
      " block1_conv2 (Conv2D)       (None, 224, 224, 64)      36928     \n",
      "                                                                 \n",
      " block1_pool (MaxPooling2D)  (None, 112, 112, 64)      0         \n",
      "                                                                 \n",
      " block2_conv1 (Conv2D)       (None, 112, 112, 128)     73856     \n",
      "                                                                 \n",
      " block2_conv2 (Conv2D)       (None, 112, 112, 128)     147584    \n",
      "                                                                 \n",
      " block2_pool (MaxPooling2D)  (None, 56, 56, 128)       0         \n",
      "                                                                 \n",
      " block3_conv1 (Conv2D)       (None, 56, 56, 256)       295168    \n",
      "                                                                 \n",
      " block3_conv2 (Conv2D)       (None, 56, 56, 256)       590080    \n",
      "                                                                 \n",
      " block3_conv3 (Conv2D)       (None, 56, 56, 256)       590080    \n",
      "                                                                 \n",
      " block3_pool (MaxPooling2D)  (None, 28, 28, 256)       0         \n",
      "                                                                 \n",
      " block4_conv1 (Conv2D)       (None, 28, 28, 512)       1180160   \n",
      "                                                                 \n",
      " block4_conv2 (Conv2D)       (None, 28, 28, 512)       2359808   \n",
      "                                                                 \n",
      " block4_conv3 (Conv2D)       (None, 28, 28, 512)       2359808   \n",
      "                                                                 \n",
      " block4_pool (MaxPooling2D)  (None, 14, 14, 512)       0         \n",
      "                                                                 \n",
      " block5_conv1 (Conv2D)       (None, 14, 14, 512)       2359808   \n",
      "                                                                 \n",
      " block5_conv2 (Conv2D)       (None, 14, 14, 512)       2359808   \n",
      "                                                                 \n",
      " block5_conv3 (Conv2D)       (None, 14, 14, 512)       2359808   \n",
      "                                                                 \n",
      " block5_pool (MaxPooling2D)  (None, 7, 7, 512)         0         \n",
      "                                                                 \n",
      " global_average_pooling2d_1   (None, 512)              0         \n",
      " (GlobalAveragePooling2D)                                        \n",
      "                                                                 \n",
      " dense_2 (Dense)             (None, 256)               131328    \n",
      "                                                                 \n",
      " dropout_1 (Dropout)         (None, 256)               0         \n",
      "                                                                 \n",
      " dense_3 (Dense)             (None, 7)                 1799      \n",
      "                                                                 \n",
      "=================================================================\n",
      "Total params: 14,847,815\n",
      "Trainable params: 133,127\n",
      "Non-trainable params: 14,714,688\n",
      "_________________________________________________________________\n",
      "None\n"
     ]
    }
   ],
   "source": [
    "# Création du modèle\n",
    "with tf.device('/gpu:0'): \n",
    "    model2 = create_model_fct()\n",
    "\n",
    "# Création du callback\n",
    "model2_save_path = \"./model2_best_weights.h5\"\n",
    "checkpoint = ModelCheckpoint(model2_save_path, monitor='val_loss', verbose=1, save_best_only=True, mode='min')\n",
    "es = EarlyStopping(monitor='val_loss', mode='min', verbose=1, patience=5)\n",
    "csv_logger2 = CSVLogger('model2.log', append=True)\n",
    "callbacks_list = [checkpoint, es, csv_logger2]"
   ]
  },
  {
   "cell_type": "markdown",
   "id": "5a96e3bf-9f2c-4836-b826-afad993f2bbb",
   "metadata": {},
   "source": [
    "### Entrainement du modèle"
   ]
  },
  {
   "cell_type": "code",
   "execution_count": 51,
   "id": "9b44a7d6-ec72-4ffd-829c-76ae5dca9868",
   "metadata": {},
   "outputs": [
    {
     "name": "stdout",
     "output_type": "stream",
     "text": [
      "Epoch 1/50\n",
      "27/27 [==============================] - ETA: 0s - loss: 5.2796 - accuracy: 0.5143\n",
      "Epoch 1: val_loss improved from inf to 1.62906, saving model to .\\model2_best_weights.h5\n",
      "27/27 [==============================] - 76s 3s/step - loss: 5.2796 - accuracy: 0.5143 - val_loss: 1.6291 - val_accuracy: 0.7143\n",
      "Epoch 2/50\n",
      "27/27 [==============================] - ETA: 0s - loss: 2.1147 - accuracy: 0.6560\n",
      "Epoch 2: val_loss improved from 1.62906 to 1.30807, saving model to .\\model2_best_weights.h5\n",
      "27/27 [==============================] - 79s 3s/step - loss: 2.1147 - accuracy: 0.6560 - val_loss: 1.3081 - val_accuracy: 0.7524\n",
      "Epoch 3/50\n",
      "27/27 [==============================] - ETA: 0s - loss: 1.1766 - accuracy: 0.7476\n",
      "Epoch 3: val_loss improved from 1.30807 to 1.06637, saving model to .\\model2_best_weights.h5\n",
      "27/27 [==============================] - 78s 3s/step - loss: 1.1766 - accuracy: 0.7476 - val_loss: 1.0664 - val_accuracy: 0.7714\n",
      "Epoch 4/50\n",
      "27/27 [==============================] - ETA: 0s - loss: 0.8312 - accuracy: 0.8155\n",
      "Epoch 4: val_loss did not improve from 1.06637\n",
      "27/27 [==============================] - 76s 3s/step - loss: 0.8312 - accuracy: 0.8155 - val_loss: 1.3528 - val_accuracy: 0.7524\n",
      "Epoch 5/50\n",
      "27/27 [==============================] - ETA: 0s - loss: 0.7055 - accuracy: 0.8131\n",
      "Epoch 5: val_loss improved from 1.06637 to 1.01917, saving model to .\\model2_best_weights.h5\n",
      "27/27 [==============================] - 78s 3s/step - loss: 0.7055 - accuracy: 0.8131 - val_loss: 1.0192 - val_accuracy: 0.8000\n",
      "Epoch 6/50\n",
      "27/27 [==============================] - ETA: 0s - loss: 0.4775 - accuracy: 0.8429\n",
      "Epoch 6: val_loss did not improve from 1.01917\n",
      "27/27 [==============================] - 78s 3s/step - loss: 0.4775 - accuracy: 0.8429 - val_loss: 1.0702 - val_accuracy: 0.8286\n",
      "Epoch 7/50\n",
      "27/27 [==============================] - ETA: 0s - loss: 0.3627 - accuracy: 0.8893\n",
      "Epoch 7: val_loss improved from 1.01917 to 0.86124, saving model to .\\model2_best_weights.h5\n",
      "27/27 [==============================] - 78s 3s/step - loss: 0.3627 - accuracy: 0.8893 - val_loss: 0.8612 - val_accuracy: 0.8000\n",
      "Epoch 8/50\n",
      "27/27 [==============================] - ETA: 0s - loss: 0.3444 - accuracy: 0.9024\n",
      "Epoch 8: val_loss improved from 0.86124 to 0.78964, saving model to .\\model2_best_weights.h5\n",
      "27/27 [==============================] - 79s 3s/step - loss: 0.3444 - accuracy: 0.9024 - val_loss: 0.7896 - val_accuracy: 0.8476\n",
      "Epoch 9/50\n",
      "27/27 [==============================] - ETA: 0s - loss: 0.2859 - accuracy: 0.9143\n",
      "Epoch 9: val_loss did not improve from 0.78964\n",
      "27/27 [==============================] - 77s 3s/step - loss: 0.2859 - accuracy: 0.9143 - val_loss: 1.0266 - val_accuracy: 0.8190\n",
      "Epoch 10/50\n",
      "27/27 [==============================] - ETA: 0s - loss: 0.1933 - accuracy: 0.9357\n",
      "Epoch 10: val_loss did not improve from 0.78964\n",
      "27/27 [==============================] - 77s 3s/step - loss: 0.1933 - accuracy: 0.9357 - val_loss: 1.0858 - val_accuracy: 0.8571\n",
      "Epoch 11/50\n",
      "27/27 [==============================] - ETA: 0s - loss: 0.2025 - accuracy: 0.9250\n",
      "Epoch 11: val_loss did not improve from 0.78964\n",
      "27/27 [==============================] - 77s 3s/step - loss: 0.2025 - accuracy: 0.9250 - val_loss: 1.0459 - val_accuracy: 0.8476\n",
      "Epoch 12/50\n",
      "27/27 [==============================] - ETA: 0s - loss: 0.1310 - accuracy: 0.9512\n",
      "Epoch 12: val_loss did not improve from 0.78964\n",
      "27/27 [==============================] - 77s 3s/step - loss: 0.1310 - accuracy: 0.9512 - val_loss: 1.1440 - val_accuracy: 0.8476\n",
      "Epoch 13/50\n",
      "27/27 [==============================] - ETA: 0s - loss: 0.1600 - accuracy: 0.9548\n",
      "Epoch 13: val_loss did not improve from 0.78964\n",
      "27/27 [==============================] - 76s 3s/step - loss: 0.1600 - accuracy: 0.9548 - val_loss: 0.8523 - val_accuracy: 0.8667\n",
      "Epoch 13: early stopping\n",
      "temps d'entrainement du modèle:          1006.20 secondes\n"
     ]
    }
   ],
   "source": [
    "temps_modele2_debut = time.time()\n",
    "with tf.device('/gpu:0'): \n",
    "    history2 = model2.fit(dataset_train,\n",
    "                    validation_data=dataset_val,\n",
    "                    batch_size=batch_size, epochs=50, callbacks=callbacks_list, verbose=1)\n",
    "temps_modele2 = np.round(time.time() - temps_modele2_debut,4)\n",
    "print(\"temps d\\'entrainement du modèle: \", \"%15.2f\" % temps_modele2, \"secondes\")"
   ]
  },
  {
   "cell_type": "markdown",
   "id": "88d89e8d-a85c-40c0-9201-acb4693bca1e",
   "metadata": {},
   "source": [
    "### Scores"
   ]
  },
  {
   "cell_type": "code",
   "execution_count": 53,
   "id": "4511e683-ef1c-418d-a962-171592899996",
   "metadata": {},
   "outputs": [
    {
     "name": "stdout",
     "output_type": "stream",
     "text": [
      "27/27 [==============================] - 66s 2s/step - loss: 0.0124 - accuracy: 0.9976\n",
      "Training Accuracy   : 0.9976\n",
      "\n",
      "4/4 [==============================] - 10s 2s/step - loss: 0.8523 - accuracy: 0.8667\n",
      "Validation Accuracy :  0.8667\n"
     ]
    }
   ],
   "source": [
    "# Score du dernier epoch\n",
    "\n",
    "loss, accuracy = model2.evaluate(dataset_train, verbose=True)\n",
    "print(\"Training Accuracy   : {:.4f}\".format(accuracy))\n",
    "print()\n",
    "loss, accuracy = model2.evaluate(dataset_val, verbose=True)\n",
    "print(\"Validation Accuracy :  {:.4f}\".format(accuracy))"
   ]
  },
  {
   "cell_type": "code",
   "execution_count": 54,
   "id": "5568fd87-67fb-45ae-b560-6226528713f7",
   "metadata": {},
   "outputs": [
    {
     "name": "stdout",
     "output_type": "stream",
     "text": [
      "Validation Accuracy :  0.8476\n",
      "Test Accuracy       :  0.8667\n"
     ]
    }
   ],
   "source": [
    "# Score de l'epoch optimal\n",
    "model2.load_weights(model2_save_path)\n",
    "\n",
    "lossVal2, accuracyVal2 = model2.evaluate(dataset_val, verbose=False)\n",
    "print(\"Validation Accuracy :  {:.4f}\".format(accuracyVal2))\n",
    "\n",
    "lossTest2, accuracyTest2 = model2.evaluate(dataset_test, verbose=False)\n",
    "print(\"Test Accuracy       :  {:.4f}\".format(accuracyTest2))"
   ]
  },
  {
   "cell_type": "code",
   "execution_count": 55,
   "id": "b5233689-3972-4256-a229-5e1b06feeab8",
   "metadata": {},
   "outputs": [
    {
     "data": {
      "image/png": "[encoded data removed]",
      "text/plain": [
       "<Figure size 1000x500 with 2 Axes>"
      ]
     },
     "metadata": {},
     "output_type": "display_data"
    }
   ],
   "source": [
    "from plot_keras_history import show_history, plot_history\n",
    "import matplotlib.pyplot as plt\n",
    "\n",
    "show_history(history2)\n",
    "plot_history(history2, path=\"dataset_sans_data_augmentation.png\")\n",
    "plt.close()"
   ]
  },
  {
   "cell_type": "code",
   "execution_count": 56,
   "id": "94c537a7-f25e-442e-97fb-55611572d08b",
   "metadata": {},
   "outputs": [
    {
     "name": "stdout",
     "output_type": "stream",
     "text": [
      "modèle inconnu on ajoute\n"
     ]
    }
   ],
   "source": [
    "dfHistMod2 = pd.read_csv('model2.log')\n",
    "saveResults(['Dataset sans data augmentation', len(dfHistMod2['epoch'])-1, lossTest2, accuracyVal2, accuracyTest2, round(temps_modele2,2)])"
   ]
  },
  {
   "cell_type": "markdown",
   "id": "08e4c4cd-d4ae-48ca-94da-60ae75812100",
   "metadata": {},
   "source": [
    "## Approche nouvelle par Dataset avec data augmentation intégrée au modèle\n",
    "\n",
    "CF https://www.tensorflow.org/tutorials/images/data_augmentation"
   ]
  },
  {
   "cell_type": "code",
   "execution_count": 58,
   "id": "3bffb323-ee5f-4f3d-999d-5acef328f976",
   "metadata": {},
   "outputs": [],
   "source": [
    "batch_size = 32\n",
    "\n",
    "def dataset_fct(path, validation_split=0, data_type=None) :\n",
    "    dataset = tf.keras.utils.image_dataset_from_directory(\n",
    "                    path, labels='inferred', label_mode='categorical',\n",
    "                    class_names=None, batch_size=batch_size, image_size=(224, 224), shuffle=True, seed=42,\n",
    "                    validation_split=validation_split, subset=data_type\n",
    "                    )\n",
    "    return dataset"
   ]
  },
  {
   "cell_type": "code",
   "execution_count": 59,
   "id": "985bc50b-c539-49bd-b107-08489960da79",
   "metadata": {},
   "outputs": [
    {
     "name": "stdout",
     "output_type": "stream",
     "text": [
      "Found 945 files belonging to 7 classes.\n",
      "Using 840 files for training.\n",
      "Found 945 files belonging to 7 classes.\n",
      "Using 105 files for validation.\n",
      "Found 105 files belonging to 7 classes.\n"
     ]
    }
   ],
   "source": [
    "dataset_train = dataset_fct(images_classees, validation_split=0.112, data_type='training')\n",
    "dataset_val = dataset_fct(images_classees, validation_split=0.112, data_type='validation')\n",
    "dataset_test = dataset_fct(images_test, validation_split=0, data_type=None)"
   ]
  },
  {
   "cell_type": "code",
   "execution_count": 60,
   "id": "a9bbe1c3-d9c0-4ce7-b1b2-4d4f3379f625",
   "metadata": {},
   "outputs": [],
   "source": [
    "def resize_and_rescale(image, label):\n",
    "    image = tf.cast(image, tf.float32)\n",
    "    image = tf.image.resize(image, [IMG_SIZE, IMG_SIZE])\n",
    "    image = (image / 255.0)\n",
    "    return image, label"
   ]
  },
  {
   "cell_type": "code",
   "execution_count": 61,
   "id": "72fec1b5-83ff-4de6-89d1-85c73c1e7dc3",
   "metadata": {},
   "outputs": [],
   "source": [
    "def create_model_fct2() :\n",
    "    # Data augmentation\n",
    "    data_augmentation = Sequential([\n",
    "        RandomFlip(\"horizontal\", input_shape=(224, 224, 3)),\n",
    "        RandomRotation(0.1),\n",
    "        RandomZoom(0.1),\n",
    "      ])\n",
    "    \n",
    "    # Récupération modèle pré-entraîné\n",
    "    model_base = VGG16(include_top=False, weights=\"imagenet\", input_shape=(224, 224, 3))\n",
    "    for layer in model_base.layers:\n",
    "        layer.trainable = False\n",
    "\n",
    "    # Définition du nouveau modèle\n",
    "    model = Sequential([\n",
    "                data_augmentation,\n",
    "                Rescaling(1./127.5, offset=-1),\n",
    "                model_base,\n",
    "                GlobalAveragePooling2D(),\n",
    "                Dense(256, activation='relu'),\n",
    "                Dropout(0.5),\n",
    "                Dense(7, activation='softmax')\n",
    "                ])\n",
    "\n",
    "    # compilation du modèle \n",
    "    model.compile(loss=\"categorical_crossentropy\", optimizer='adam', metrics=[\"accuracy\"])\n",
    "\n",
    "    print(model.summary())\n",
    "    \n",
    "    return model\n",
    "    "
   ]
  },
  {
   "cell_type": "code",
   "execution_count": 62,
   "id": "bf7a7f8d-8637-4306-a378-e48974799fec",
   "metadata": {},
   "outputs": [
    {
     "name": "stdout",
     "output_type": "stream",
     "text": [
      "Model: \"sequential_1\"\n",
      "_________________________________________________________________\n",
      " Layer (type)                Output Shape              Param #   \n",
      "=================================================================\n",
      " sequential (Sequential)     (None, 224, 224, 3)       0         \n",
      "                                                                 \n",
      " rescaling (Rescaling)       (None, 224, 224, 3)       0         \n",
      "                                                                 \n",
      " vgg16 (Functional)          (None, 7, 7, 512)         14714688  \n",
      "                                                                 \n",
      " global_average_pooling2d_2   (None, 512)              0         \n",
      " (GlobalAveragePooling2D)                                        \n",
      "                                                                 \n",
      " dense_4 (Dense)             (None, 256)               131328    \n",
      "                                                                 \n",
      " dropout_2 (Dropout)         (None, 256)               0         \n",
      "                                                                 \n",
      " dense_5 (Dense)             (None, 7)                 1799      \n",
      "                                                                 \n",
      "=================================================================\n",
      "Total params: 14,847,815\n",
      "Trainable params: 133,127\n",
      "Non-trainable params: 14,714,688\n",
      "_________________________________________________________________\n",
      "None\n"
     ]
    }
   ],
   "source": [
    "# Création du modèle\n",
    "with tf.device('/gpu:0'): \n",
    "    model3 = create_model_fct2()\n",
    "\n",
    "# Création du callback\n",
    "model3_save_path = \"./model3_best_weights.h5\"\n",
    "checkpoint = ModelCheckpoint(model3_save_path, monitor='val_loss', verbose=1, save_best_only=True, mode='min')\n",
    "es = EarlyStopping(monitor='val_loss', mode='min', verbose=1, patience=5)\n",
    "csv_logger3 = CSVLogger('model3.log', append=True)\n",
    "callbacks_list = [checkpoint, es, csv_logger3]\n"
   ]
  },
  {
   "cell_type": "markdown",
   "id": "5ff6f007-d3bb-47d6-96f9-5552c42bfe5d",
   "metadata": {},
   "source": [
    "### Entrainement du modèle"
   ]
  },
  {
   "cell_type": "code",
   "execution_count": 64,
   "id": "7b20d523-5a43-4b9d-9dc2-4fcad4a0dec1",
   "metadata": {},
   "outputs": [
    {
     "name": "stdout",
     "output_type": "stream",
     "text": [
      "Epoch 1/50\n",
      "WARNING:tensorflow:Using a while_loop for converting RngReadAndSkip cause there is no registered converter for this op.\n",
      "WARNING:tensorflow:Using a while_loop for converting Bitcast cause there is no registered converter for this op.\n",
      "WARNING:tensorflow:Using a while_loop for converting Bitcast cause there is no registered converter for this op.\n",
      "WARNING:tensorflow:Using a while_loop for converting StatelessRandomUniformV2 cause there is no registered converter for this op.\n",
      "WARNING:tensorflow:Using a while_loop for converting ImageProjectiveTransformV3 cause there is no registered converter for this op.\n",
      "WARNING:tensorflow:Using a while_loop for converting RngReadAndSkip cause there is no registered converter for this op.\n",
      "WARNING:tensorflow:Using a while_loop for converting Bitcast cause there is no registered converter for this op.\n",
      "WARNING:tensorflow:Using a while_loop for converting Bitcast cause there is no registered converter for this op.\n",
      "WARNING:tensorflow:Using a while_loop for converting StatelessRandomUniformV2 cause there is no registered converter for this op.\n",
      "WARNING:tensorflow:Using a while_loop for converting ImageProjectiveTransformV3 cause there is no registered converter for this op.\n",
      "WARNING:tensorflow:Using a while_loop for converting RngReadAndSkip cause there is no registered converter for this op.\n",
      "WARNING:tensorflow:Using a while_loop for converting Bitcast cause there is no registered converter for this op.\n",
      "WARNING:tensorflow:Using a while_loop for converting Bitcast cause there is no registered converter for this op.\n",
      "WARNING:tensorflow:Using a while_loop for converting StatelessRandomUniformV2 cause there is no registered converter for this op.\n",
      "WARNING:tensorflow:Using a while_loop for converting ImageProjectiveTransformV3 cause there is no registered converter for this op.\n",
      "WARNING:tensorflow:Using a while_loop for converting RngReadAndSkip cause there is no registered converter for this op.\n",
      "WARNING:tensorflow:Using a while_loop for converting Bitcast cause there is no registered converter for this op.\n",
      "WARNING:tensorflow:Using a while_loop for converting Bitcast cause there is no registered converter for this op.\n",
      "WARNING:tensorflow:Using a while_loop for converting StatelessRandomUniformV2 cause there is no registered converter for this op.\n",
      "WARNING:tensorflow:Using a while_loop for converting ImageProjectiveTransformV3 cause there is no registered converter for this op.\n",
      "27/27 [==============================] - ETA: 0s - loss: 1.8263 - accuracy: 0.3071\n",
      "Epoch 1: val_loss improved from inf to 1.34800, saving model to .\\model3_best_weights.h5\n",
      "27/27 [==============================] - 82s 3s/step - loss: 1.8263 - accuracy: 0.3071 - val_loss: 1.3480 - val_accuracy: 0.5619\n",
      "Epoch 2/50\n",
      "27/27 [==============================] - ETA: 0s - loss: 1.2824 - accuracy: 0.5667\n",
      "Epoch 2: val_loss improved from 1.34800 to 1.03840, saving model to .\\model3_best_weights.h5\n",
      "27/27 [==============================] - 80s 3s/step - loss: 1.2824 - accuracy: 0.5667 - val_loss: 1.0384 - val_accuracy: 0.6857\n",
      "Epoch 3/50\n",
      "27/27 [==============================] - ETA: 0s - loss: 1.0983 - accuracy: 0.6488\n",
      "Epoch 3: val_loss improved from 1.03840 to 0.91171, saving model to .\\model3_best_weights.h5\n",
      "27/27 [==============================] - 79s 3s/step - loss: 1.0983 - accuracy: 0.6488 - val_loss: 0.9117 - val_accuracy: 0.6857\n",
      "Epoch 4/50\n",
      "27/27 [==============================] - ETA: 0s - loss: 0.9538 - accuracy: 0.6988\n",
      "Epoch 4: val_loss improved from 0.91171 to 0.87947, saving model to .\\model3_best_weights.h5\n",
      "27/27 [==============================] - 79s 3s/step - loss: 0.9538 - accuracy: 0.6988 - val_loss: 0.8795 - val_accuracy: 0.7238\n",
      "Epoch 5/50\n",
      "27/27 [==============================] - ETA: 0s - loss: 0.8956 - accuracy: 0.7179\n",
      "Epoch 5: val_loss improved from 0.87947 to 0.80729, saving model to .\\model3_best_weights.h5\n",
      "27/27 [==============================] - 80s 3s/step - loss: 0.8956 - accuracy: 0.7179 - val_loss: 0.8073 - val_accuracy: 0.7714\n",
      "Epoch 6/50\n",
      "27/27 [==============================] - ETA: 0s - loss: 0.8326 - accuracy: 0.7310\n",
      "Epoch 6: val_loss improved from 0.80729 to 0.77234, saving model to .\\model3_best_weights.h5\n",
      "27/27 [==============================] - 80s 3s/step - loss: 0.8326 - accuracy: 0.7310 - val_loss: 0.7723 - val_accuracy: 0.7238\n",
      "Epoch 7/50\n",
      "27/27 [==============================] - ETA: 0s - loss: 0.7911 - accuracy: 0.7440\n",
      "Epoch 7: val_loss improved from 0.77234 to 0.73407, saving model to .\\model3_best_weights.h5\n",
      "27/27 [==============================] - 79s 3s/step - loss: 0.7911 - accuracy: 0.7440 - val_loss: 0.7341 - val_accuracy: 0.8000\n",
      "Epoch 8/50\n",
      "27/27 [==============================] - ETA: 0s - loss: 0.7690 - accuracy: 0.7500\n",
      "Epoch 8: val_loss improved from 0.73407 to 0.71512, saving model to .\\model3_best_weights.h5\n",
      "27/27 [==============================] - 80s 3s/step - loss: 0.7690 - accuracy: 0.7500 - val_loss: 0.7151 - val_accuracy: 0.7905\n",
      "Epoch 9/50\n",
      "27/27 [==============================] - ETA: 0s - loss: 0.7593 - accuracy: 0.7560\n",
      "Epoch 9: val_loss improved from 0.71512 to 0.71374, saving model to .\\model3_best_weights.h5\n",
      "27/27 [==============================] - 79s 3s/step - loss: 0.7593 - accuracy: 0.7560 - val_loss: 0.7137 - val_accuracy: 0.7619\n",
      "Epoch 10/50\n",
      "27/27 [==============================] - ETA: 0s - loss: 0.7214 - accuracy: 0.7643\n",
      "Epoch 10: val_loss did not improve from 0.71374\n",
      "27/27 [==============================] - 78s 3s/step - loss: 0.7214 - accuracy: 0.7643 - val_loss: 0.7249 - val_accuracy: 0.7524\n",
      "Epoch 11/50\n",
      "27/27 [==============================] - ETA: 0s - loss: 0.7209 - accuracy: 0.7679\n",
      "Epoch 11: val_loss did not improve from 0.71374\n",
      "27/27 [==============================] - 78s 3s/step - loss: 0.7209 - accuracy: 0.7679 - val_loss: 0.7246 - val_accuracy: 0.7619\n",
      "Epoch 12/50\n",
      "27/27 [==============================] - ETA: 0s - loss: 0.6959 - accuracy: 0.7810\n",
      "Epoch 12: val_loss improved from 0.71374 to 0.64695, saving model to .\\model3_best_weights.h5\n",
      "27/27 [==============================] - 79s 3s/step - loss: 0.6959 - accuracy: 0.7810 - val_loss: 0.6469 - val_accuracy: 0.8095\n",
      "Epoch 13/50\n",
      "27/27 [==============================] - ETA: 0s - loss: 0.6365 - accuracy: 0.8000\n",
      "Epoch 13: val_loss did not improve from 0.64695\n",
      "27/27 [==============================] - 78s 3s/step - loss: 0.6365 - accuracy: 0.8000 - val_loss: 0.6618 - val_accuracy: 0.7905\n",
      "Epoch 14/50\n",
      "27/27 [==============================] - ETA: 0s - loss: 0.6164 - accuracy: 0.8107\n",
      "Epoch 14: val_loss did not improve from 0.64695\n",
      "27/27 [==============================] - 79s 3s/step - loss: 0.6164 - accuracy: 0.8107 - val_loss: 0.6661 - val_accuracy: 0.7714\n",
      "Epoch 15/50\n",
      "27/27 [==============================] - ETA: 0s - loss: 0.6091 - accuracy: 0.8012\n",
      "Epoch 15: val_loss improved from 0.64695 to 0.63747, saving model to .\\model3_best_weights.h5\n",
      "27/27 [==============================] - 79s 3s/step - loss: 0.6091 - accuracy: 0.8012 - val_loss: 0.6375 - val_accuracy: 0.7905\n",
      "Epoch 16/50\n",
      "27/27 [==============================] - ETA: 0s - loss: 0.5945 - accuracy: 0.8167\n",
      "Epoch 16: val_loss improved from 0.63747 to 0.63490, saving model to .\\model3_best_weights.h5\n",
      "27/27 [==============================] - 78s 3s/step - loss: 0.5945 - accuracy: 0.8167 - val_loss: 0.6349 - val_accuracy: 0.8095\n",
      "Epoch 17/50\n",
      "27/27 [==============================] - ETA: 0s - loss: 0.5851 - accuracy: 0.8071\n",
      "Epoch 17: val_loss improved from 0.63490 to 0.61344, saving model to .\\model3_best_weights.h5\n",
      "27/27 [==============================] - 79s 3s/step - loss: 0.5851 - accuracy: 0.8071 - val_loss: 0.6134 - val_accuracy: 0.8000\n",
      "Epoch 18/50\n",
      "27/27 [==============================] - ETA: 0s - loss: 0.5707 - accuracy: 0.8179\n",
      "Epoch 18: val_loss did not improve from 0.61344\n",
      "27/27 [==============================] - 78s 3s/step - loss: 0.5707 - accuracy: 0.8179 - val_loss: 0.6351 - val_accuracy: 0.7810\n",
      "Epoch 19/50\n",
      "27/27 [==============================] - ETA: 0s - loss: 0.5595 - accuracy: 0.8190\n",
      "Epoch 19: val_loss did not improve from 0.61344\n",
      "27/27 [==============================] - 79s 3s/step - loss: 0.5595 - accuracy: 0.8190 - val_loss: 0.6521 - val_accuracy: 0.7810\n",
      "Epoch 20/50\n",
      "27/27 [==============================] - ETA: 0s - loss: 0.5791 - accuracy: 0.8298\n",
      "Epoch 20: val_loss did not improve from 0.61344\n",
      "27/27 [==============================] - 79s 3s/step - loss: 0.5791 - accuracy: 0.8298 - val_loss: 0.6283 - val_accuracy: 0.8000\n",
      "Epoch 21/50\n",
      "27/27 [==============================] - ETA: 0s - loss: 0.5311 - accuracy: 0.8310\n",
      "Epoch 21: val_loss improved from 0.61344 to 0.60833, saving model to .\\model3_best_weights.h5\n",
      "27/27 [==============================] - 80s 3s/step - loss: 0.5311 - accuracy: 0.8310 - val_loss: 0.6083 - val_accuracy: 0.8095\n",
      "Epoch 22/50\n",
      "27/27 [==============================] - ETA: 0s - loss: 0.5111 - accuracy: 0.8417\n",
      "Epoch 22: val_loss did not improve from 0.60833\n",
      "27/27 [==============================] - 78s 3s/step - loss: 0.5111 - accuracy: 0.8417 - val_loss: 0.6094 - val_accuracy: 0.8095\n",
      "Epoch 23/50\n",
      "27/27 [==============================] - ETA: 0s - loss: 0.5344 - accuracy: 0.8274\n",
      "Epoch 23: val_loss did not improve from 0.60833\n",
      "27/27 [==============================] - 78s 3s/step - loss: 0.5344 - accuracy: 0.8274 - val_loss: 0.6140 - val_accuracy: 0.8190\n",
      "Epoch 24/50\n",
      "27/27 [==============================] - ETA: 0s - loss: 0.5002 - accuracy: 0.8393\n",
      "Epoch 24: val_loss improved from 0.60833 to 0.60055, saving model to .\\model3_best_weights.h5\n",
      "27/27 [==============================] - 80s 3s/step - loss: 0.5002 - accuracy: 0.8393 - val_loss: 0.6005 - val_accuracy: 0.8095\n",
      "Epoch 25/50\n",
      "27/27 [==============================] - ETA: 0s - loss: 0.4501 - accuracy: 0.8583\n",
      "Epoch 25: val_loss improved from 0.60055 to 0.59128, saving model to .\\model3_best_weights.h5\n",
      "27/27 [==============================] - 79s 3s/step - loss: 0.4501 - accuracy: 0.8583 - val_loss: 0.5913 - val_accuracy: 0.8000\n",
      "Epoch 26/50\n",
      "27/27 [==============================] - ETA: 0s - loss: 0.4789 - accuracy: 0.8381\n",
      "Epoch 26: val_loss did not improve from 0.59128\n",
      "27/27 [==============================] - 79s 3s/step - loss: 0.4789 - accuracy: 0.8381 - val_loss: 0.6144 - val_accuracy: 0.8190\n",
      "Epoch 27/50\n",
      "27/27 [==============================] - ETA: 0s - loss: 0.4451 - accuracy: 0.8690\n",
      "Epoch 27: val_loss did not improve from 0.59128\n",
      "27/27 [==============================] - 78s 3s/step - loss: 0.4451 - accuracy: 0.8690 - val_loss: 0.6198 - val_accuracy: 0.8095\n",
      "Epoch 28/50\n",
      "27/27 [==============================] - ETA: 0s - loss: 0.4486 - accuracy: 0.8548\n",
      "Epoch 28: val_loss did not improve from 0.59128\n",
      "27/27 [==============================] - 79s 3s/step - loss: 0.4486 - accuracy: 0.8548 - val_loss: 0.6112 - val_accuracy: 0.8190\n",
      "Epoch 29/50\n",
      "27/27 [==============================] - ETA: 0s - loss: 0.4217 - accuracy: 0.8536\n",
      "Epoch 29: val_loss did not improve from 0.59128\n",
      "27/27 [==============================] - 78s 3s/step - loss: 0.4217 - accuracy: 0.8536 - val_loss: 0.6275 - val_accuracy: 0.8190\n",
      "Epoch 30/50\n",
      "27/27 [==============================] - ETA: 0s - loss: 0.4559 - accuracy: 0.8429\n",
      "Epoch 30: val_loss did not improve from 0.59128\n",
      "27/27 [==============================] - 79s 3s/step - loss: 0.4559 - accuracy: 0.8429 - val_loss: 0.6175 - val_accuracy: 0.8095\n",
      "Epoch 30: early stopping\n",
      "temps d'entrainement du modèle:          2368.69 secondes\n"
     ]
    }
   ],
   "source": [
    "temps_modele3_debut = time.time()\n",
    "with tf.device('/gpu:0'): \n",
    "    history3 = model3.fit(dataset_train,\n",
    "                    validation_data=dataset_val,\n",
    "                    batch_size=batch_size, epochs=50, callbacks=callbacks_list, verbose=1)\n",
    "temps_modele3 = np.round(time.time() - temps_modele3_debut,4)\n",
    "print(\"temps d\\'entrainement du modèle: \", \"%15.2f\" % temps_modele3, \"secondes\")"
   ]
  },
  {
   "cell_type": "markdown",
   "id": "a1b17b3c-d71c-41df-86d4-262615b192ce",
   "metadata": {},
   "source": [
    "### Scores"
   ]
  },
  {
   "cell_type": "code",
   "execution_count": 66,
   "id": "b377ada3-268a-4815-af44-c5b4154b2039",
   "metadata": {},
   "outputs": [
    {
     "name": "stdout",
     "output_type": "stream",
     "text": [
      "27/27 [==============================] - 67s 2s/step - loss: 0.3171 - accuracy: 0.9000\n",
      "Training Accuracy   : 0.9000\n",
      "\n",
      "4/4 [==============================] - 10s 2s/step - loss: 0.6175 - accuracy: 0.8095\n",
      "Validation Accuracy :  0.8095\n"
     ]
    }
   ],
   "source": [
    "# Score du dernier epoch\n",
    "\n",
    "loss, accuracy = model3.evaluate(dataset_train, verbose=True)\n",
    "print(\"Training Accuracy   : {:.4f}\".format(accuracy))\n",
    "print()\n",
    "loss, accuracy = model3.evaluate(dataset_val, verbose=True)\n",
    "print(\"Validation Accuracy :  {:.4f}\".format(accuracy))"
   ]
  },
  {
   "cell_type": "code",
   "execution_count": 67,
   "id": "655d0b75-814b-4f20-8724-a22c03c9d75a",
   "metadata": {},
   "outputs": [
    {
     "name": "stdout",
     "output_type": "stream",
     "text": [
      "Validation Accuracy :  0.8000\n",
      "Test Accuracy       :  0.8762\n"
     ]
    }
   ],
   "source": [
    "# Score de l'epoch optimal\n",
    "model3.load_weights(model3_save_path)\n",
    "\n",
    "lossVal3, accuracyVal3 = model3.evaluate(dataset_val, verbose=False)\n",
    "print(\"Validation Accuracy :  {:.4f}\".format(accuracyVal3))\n",
    "\n",
    "lossTest3, accuracyTest3 = model3.evaluate(dataset_test, verbose=False)\n",
    "print(\"Test Accuracy       :  {:.4f}\".format(accuracyTest3))"
   ]
  },
  {
   "cell_type": "code",
   "execution_count": 68,
   "id": "a81e2502-c39f-4a76-a31b-7b9ab4855c89",
   "metadata": {},
   "outputs": [
    {
     "data": {
      "image/png": "[encoded data removed]",
      "text/plain": [
       "<Figure size 1000x500 with 2 Axes>"
      ]
     },
     "metadata": {},
     "output_type": "display_data"
    }
   ],
   "source": [
    "from plot_keras_history import show_history, plot_history\n",
    "import matplotlib.pyplot as plt\n",
    "\n",
    "show_history(history3)\n",
    "plot_history(history3, path=\"dataset_avec_data_augmentation.png\")\n",
    "plt.close()"
   ]
  },
  {
   "cell_type": "code",
   "execution_count": 69,
   "id": "c8b430bd-79f5-443e-b7f6-1fc04febbbef",
   "metadata": {},
   "outputs": [
    {
     "name": "stdout",
     "output_type": "stream",
     "text": [
      "modèle inconnu on ajoute\n"
     ]
    }
   ],
   "source": [
    "dfHistMod3 = pd.read_csv('model3.log')\n",
    "saveResults(['Dataset avec data augmentation', len(dfHistMod3['epoch'])-1, lossTest3, accuracyVal3, accuracyTest3, round(temps_modele3,2)])"
   ]
  },
  {
   "cell_type": "markdown",
   "id": "7e2b95aa-bac4-4d08-8c75-336151e9ed4b",
   "metadata": {},
   "source": [
    "# Résultats de tous les modèles"
   ]
  },
  {
   "cell_type": "code",
   "execution_count": 71,
   "id": "0ed207c3-d2c9-4466-8849-079352a7b5fa",
   "metadata": {},
   "outputs": [
    {
     "data": {
      "text/html": [
       "<div>\n",
       "<style scoped>\n",
       "    .dataframe tbody tr th:only-of-type {\n",
       "        vertical-align: middle;\n",
       "    }\n",
       "\n",
       "    .dataframe tbody tr th {\n",
       "        vertical-align: top;\n",
       "    }\n",
       "\n",
       "    .dataframe thead th {\n",
       "        text-align: right;\n",
       "    }\n",
       "</style>\n",
       "<table border=\"1\" class=\"dataframe\">\n",
       "  <thead>\n",
       "    <tr style=\"text-align: right;\">\n",
       "      <th></th>\n",
       "      <th>Modèle</th>\n",
       "      <th>Epoch</th>\n",
       "      <th>Loss test</th>\n",
       "      <th>Accuracy valid</th>\n",
       "      <th>Accuracy test</th>\n",
       "      <th>Temps</th>\n",
       "    </tr>\n",
       "  </thead>\n",
       "  <tbody>\n",
       "    <tr>\n",
       "      <th>0</th>\n",
       "      <td>Préparation initiale images</td>\n",
       "      <td>15</td>\n",
       "      <td>1.232836</td>\n",
       "      <td>0.857143</td>\n",
       "      <td>0.761905</td>\n",
       "      <td>1071.54</td>\n",
       "    </tr>\n",
       "    <tr>\n",
       "      <th>1</th>\n",
       "      <td>Dataset sans data augmentation</td>\n",
       "      <td>12</td>\n",
       "      <td>0.549108</td>\n",
       "      <td>0.847619</td>\n",
       "      <td>0.866667</td>\n",
       "      <td>1006.20</td>\n",
       "    </tr>\n",
       "    <tr>\n",
       "      <th>2</th>\n",
       "      <td>Dataset avec data augmentation</td>\n",
       "      <td>29</td>\n",
       "      <td>0.419771</td>\n",
       "      <td>0.800000</td>\n",
       "      <td>0.876190</td>\n",
       "      <td>2368.69</td>\n",
       "    </tr>\n",
       "  </tbody>\n",
       "</table>\n",
       "</div>"
      ],
      "text/plain": [
       "                           Modèle  Epoch  Loss test  Accuracy valid  \\\n",
       "0     Préparation initiale images     15   1.232836        0.857143   \n",
       "1  Dataset sans data augmentation     12   0.549108        0.847619   \n",
       "2  Dataset avec data augmentation     29   0.419771        0.800000   \n",
       "\n",
       "   Accuracy test    Temps  \n",
       "0       0.761905  1071.54  \n",
       "1       0.866667  1006.20  \n",
       "2       0.876190  2368.69  "
      ]
     },
     "execution_count": 71,
     "metadata": {},
     "output_type": "execute_result"
    }
   ],
   "source": [
    "resultatsModeles"
   ]
  }
 ],
 "metadata": {
  "kernelspec": {
   "display_name": "Python 3 (ipykernel)",
   "language": "python",
   "name": "python3"
  },
  "language_info": {
   "codemirror_mode": {
    "name": "ipython",
    "version": 3
   },
   "file_extension": ".py",
   "mimetype": "text/x-python",
   "name": "python",
   "nbconvert_exporter": "python",
   "pygments_lexer": "ipython3",
   "version": "3.9.18"
  }
 },
 "nbformat": 4,
 "nbformat_minor": 5
}
